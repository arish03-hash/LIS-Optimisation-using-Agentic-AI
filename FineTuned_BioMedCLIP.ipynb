{
 "cells": [
  {
   "cell_type": "code",
   "execution_count": 1,
   "id": "b1a8a495-1f37-47cb-b92d-bfb6076067ba",
   "metadata": {},
   "outputs": [
    {
     "name": "stdout",
     "output_type": "stream",
     "text": [
      "True\n",
      "Tesla T4\n"
     ]
    }
   ],
   "source": [
    "import torch\n",
    "print(torch.cuda.is_available())\n",
    "print(torch.cuda.get_device_name(0))"
   ]
  },
  {
   "cell_type": "code",
   "execution_count": 8,
   "id": "7191e448-bb4b-4c95-8a02-18e1677bd745",
   "metadata": {},
   "outputs": [
    {
     "name": "stdout",
     "output_type": "stream",
     "text": [
      "'10th Marksheet.pdf'\n",
      "'12th Marksheet.pdf'\n",
      " 13.jpg\n",
      "'1st Sem.pdf'\n",
      " 2-ML.pptx\n",
      " 20211126_091932.1.jpg\n",
      " 20211126_091932.jpg\n",
      "'2nd Sem.pdf'\n",
      "'3rd Sem.pdf'\n",
      "'4th Sem.pdf'\n",
      "'5th Sem.pdf'\n",
      "'6th Sem.pdf'\n",
      " 9382_idx5_x951_y1351_class1.png\n",
      " Algorithm-converted.pdf\n",
      "'Arish (2)-1.pdf'\n",
      "'Arish (Ref).pdf'\n",
      "'Arish CV-3 (1).pdf'\n",
      "'Arish CV-3.pdf'\n",
      "'Arish Data Science(UK).pdf'\n",
      "'Arish Data Science(US).pdf'\n",
      "'Arish Mallick.pdf'\n",
      "'Arish Mallik.pdf'\n",
      "'Arish Resume (2).pdf'\n",
      "'Arish Resume (New).pdf'\n",
      "'Arish Resume(New)2.pdf'\n",
      "'Arish Resume.pdf'\n",
      " Arish.pdf\n",
      " Arish_Resume.pdf\n",
      " Arish_Resume_AI-1.pdf\n",
      " Arish_Resume_SE.pdf\n",
      "'BBMS - html,css & images.zip'\n",
      "'CCNA M1.pdf'\n",
      " Certificates\n",
      " Cirdan1\n",
      " Classroom\n",
      "'Colab Notebooks'\n",
      " Contacts.vcf\n",
      "'Copy of HSBC Bank PLC Sort Codes.xlsx'\n",
      "'DSI Whitefield Interview Sheet.pdf'\n",
      "'Data Analysis Using Python.pdf'\n",
      " Data-chart-template.xlsx\n",
      " FACE_SC_1640344359188.jpg\n",
      "'Haldi Bride'\n",
      "'Haldi Groom'\n",
      " IMG-20210731-WA0002.jpg\n",
      "'Intro for Chapter 26.docx'\n",
      "'Intro to CyberSecurity.pdf'\n",
      "'Machine Learning and Pattern Recognition.pdf'\n",
      " Martian_Summer_Internship_Certificate_2023.pdf\n",
      "'Meeting with Arish Mallick-20250811_172228-Meeting Recording.mp4'\n",
      "'Mehndi Bride'\n",
      "'Mehndi Groom '\n",
      "'Network Essentials.pdf'\n",
      "'Packet Tracer.pdf'\n",
      " Portfolio-Contact-Me.xlsx\n",
      "'Probability Modelling using Pyhton.pdf'\n",
      " Reception\n",
      "'Result Merged(Digital).pdf'\n",
      " Result.pdf\n",
      " Salesforce.pdf\n",
      "'Supervised Machine Learning.pdf'\n",
      " amazon-leadership-principles-070621-us_copy.pdf\n",
      " wedding\n"
     ]
    }
   ],
   "source": [
    "!ls ~/gdrive"
   ]
  },
  {
   "cell_type": "code",
   "execution_count": 9,
   "id": "415ff7b3-ed35-4f63-bf7b-0e4ac103d5cd",
   "metadata": {},
   "outputs": [],
   "source": [
    "path = '/home/cirdanmsc/gdrive/Cirdan1'"
   ]
  },
  {
   "cell_type": "code",
   "execution_count": 10,
   "id": "af0e3c96-c8c7-4c33-8f1a-a870f9dec4c4",
   "metadata": {},
   "outputs": [],
   "source": [
    "import os\n",
    "import copy\n",
    "import cv2\n",
    "import torch\n",
    "import random\n",
    "import torch.nn as nn\n",
    "import torch.optim as optim\n",
    "from torch.utils.data import Dataset, DataLoader\n",
    "from tqdm import tqdm\n",
    "import pandas as pd\n",
    "import numpy as np\n",
    "from PIL import Image\n",
    "import matplotlib.pyplot as plt\n",
    "import seaborn as sns\n",
    "from sklearn.model_selection import train_test_split\n",
    "from sklearn.metrics import classification_report, confusion_matrix\n",
    "from open_clip import create_model_from_pretrained, get_tokenizer\n",
    "from sklearn.utils.class_weight import compute_class_weight\n",
    "from torchvision import transforms\n",
    "import albumentations as A\n",
    "from albumentations.pytorch import ToTensorV2"
   ]
  },
  {
   "cell_type": "code",
   "execution_count": 11,
   "id": "5f81929c-46fd-4040-ad0b-d6c364a30b74",
   "metadata": {},
   "outputs": [
    {
     "data": {
      "text/plain": [
       "['pngs_v2', 'tabular_data.xlsx']"
      ]
     },
     "execution_count": 11,
     "metadata": {},
     "output_type": "execute_result"
    }
   ],
   "source": [
    "files = os.listdir(path)\n",
    "files"
   ]
  },
  {
   "cell_type": "code",
   "execution_count": 12,
   "id": "505672ec-d599-414f-97ef-d068101d214f",
   "metadata": {},
   "outputs": [],
   "source": [
    "# pip install albumentations"
   ]
  },
  {
   "cell_type": "code",
   "execution_count": 13,
   "id": "c8c2b19c-13af-44b9-81b5-d8c558253797",
   "metadata": {},
   "outputs": [],
   "source": [
    "# !pip install -q open_clip_torch transformers opencv-python scikit-learn matplotlib seaborn"
   ]
  },
  {
   "cell_type": "code",
   "execution_count": 14,
   "id": "d1e583d6-2814-4402-9df6-d9408658b0d4",
   "metadata": {},
   "outputs": [],
   "source": [
    "# pip install openpyxl"
   ]
  },
  {
   "cell_type": "code",
   "execution_count": 15,
   "id": "ae7f1655-3013-46fa-a829-d1202377f445",
   "metadata": {},
   "outputs": [
    {
     "name": "stdout",
     "output_type": "stream",
     "text": [
      "Using device: cuda\n"
     ]
    }
   ],
   "source": [
    "device = torch.device(\"cuda\" if torch.cuda.is_available() else \"cpu\")\n",
    "print(f\"Using device: {device}\")"
   ]
  },
  {
   "cell_type": "code",
   "execution_count": 34,
   "id": "3894f810-6bcb-4340-aafc-7b52c9eda2f5",
   "metadata": {},
   "outputs": [
    {
     "data": {
      "text/plain": [
       "<torch._C.Generator at 0x78d6fd30da90>"
      ]
     },
     "execution_count": 34,
     "metadata": {},
     "output_type": "execute_result"
    }
   ],
   "source": [
    "# Set random seed for reproducibility\n",
    "SEED = 42\n",
    "random.seed(SEED)\n",
    "np.random.seed(SEED)\n",
    "torch.manual_seed(SEED)"
   ]
  },
  {
   "cell_type": "code",
   "execution_count": 35,
   "id": "d37ee3c3-e400-4778-9685-0720554631a9",
   "metadata": {},
   "outputs": [],
   "source": [
    "# ====================================================\n",
    "# LOAD DATA\n",
    "# ====================================================\n",
    "path = '/home/cirdanmsc/gdrive/Cirdan1'\n",
    "image_dir = os.path.join(path, \"pngs_v2\")\n",
    "excel_path = os.path.join(path, \"tabular_data.xlsx\")\n",
    "\n",
    "df2 = pd.read_excel(excel_path, sheet_name=1)\n",
    "df4 = pd.read_excel(excel_path, sheet_name=3)\n",
    "df = pd.concat([df2[['Slide Number', 'Tumour']], df4[['Slide Number', 'Tumour']]], ignore_index=True)\n",
    "df = df[df['Tumour'] != 'Void']\n",
    "\n",
    "label2text = {\"n\": \"no tumour\", \"y\": \"tumour\"}\n",
    "df['Tumour'] = df['Tumour'].str.strip().str.lower().map(label2text)\n",
    "\n",
    "train_val_df, test_df = train_test_split(df, test_size=0.15, stratify=df[\"Tumour\"], random_state=SEED)\n",
    "train_df, val_df = train_test_split(train_val_df, test_size=0.1765, stratify=train_val_df[\"Tumour\"], random_state=SEED)"
   ]
  },
  {
   "cell_type": "code",
   "execution_count": 11,
   "id": "cf04a0e0-6bfe-44cd-887b-22693f9d0731",
   "metadata": {},
   "outputs": [
    {
     "name": "stdout",
     "output_type": "stream",
     "text": [
      "Class distribution BEFORE augmentation: {'no tumour': 54, 'tumour': 118}\n",
      "Class distribution AFTER augmentation: {'no tumour': 118, 'tumour': 118}\n"
     ]
    }
   ],
   "source": [
    "# === OFFLINE AUGMENTATION (balance classes) ===\n",
    "from collections import Counter\n",
    "# =====================\n",
    "# OFFLINE AUGMENTATION TO BALANCE\n",
    "# =====================\n",
    "counter_before = Counter(train_df[\"Tumour\"])\n",
    "print(f\"Class distribution BEFORE augmentation: {dict(counter_before)}\")\n",
    "\n",
    "minority_class = min(counter_before, key=counter_before.get)\n",
    "majority_class = max(counter_before, key=counter_before.get)\n",
    "diff = counter_before[majority_class] - counter_before[minority_class]\n",
    "\n",
    "minority_df = train_df[train_df[\"Tumour\"] == minority_class]\n",
    "\n",
    "offline_aug = A.Compose([\n",
    "    A.RandomResizedCrop(size=(224, 224), scale=(0.7, 1.0), p=1.0),\n",
    "    A.HorizontalFlip(p=0.5),\n",
    "    A.VerticalFlip(p=0.5),\n",
    "    A.Rotate(limit=30, p=0.5),\n",
    "    A.RandomBrightnessContrast(p=0.5),\n",
    "])\n",
    "\n",
    "aug_rows = []\n",
    "while len(aug_rows) < diff:\n",
    "    aug_rows.append(minority_df.sample(n=1, replace=True).iloc[0])\n",
    "\n",
    "train_df = pd.concat([train_df, pd.DataFrame(aug_rows)], ignore_index=True)\n",
    "train_df = train_df.sample(frac=1, random_state=SEED).reset_index(drop=True)  # Shuffle\n",
    "\n",
    "counter_after = Counter(train_df[\"Tumour\"])\n",
    "print(f\"Class distribution AFTER augmentation: {dict(counter_after)}\")"
   ]
  },
  {
   "cell_type": "code",
   "execution_count": 12,
   "id": "6d2913b9-5590-4f61-9894-cbcd301333cf",
   "metadata": {},
   "outputs": [
    {
     "name": "stdout",
     "output_type": "stream",
     "text": [
      "Class Weights: [0.00847457627118644, 0.00847457627118644]\n"
     ]
    }
   ],
   "source": [
    "# ====================================================\n",
    "# CLASS WEIGHTS\n",
    "# ====================================================\n",
    "classes = sorted(train_df[\"Tumour\"].unique())\n",
    "label2id = {label: idx for idx, label in enumerate(classes)}\n",
    "train_labels_numeric = [label2id[lbl] for lbl in train_df[\"Tumour\"]]\n",
    "class_counts = Counter(train_labels_numeric)\n",
    "class_weights = [1.0 / class_counts[i] for i in range(len(classes))]\n",
    "class_weights_tensor = torch.tensor(class_weights, dtype=torch.float32).to(device)\n",
    "print(f\"Class Weights: {class_weights}\")"
   ]
  },
  {
   "cell_type": "code",
   "execution_count": 13,
   "id": "3bb21e4a-b338-45a2-a8a7-310d7902b9d9",
   "metadata": {},
   "outputs": [
    {
     "name": "stderr",
     "output_type": "stream",
     "text": [
      "/home/cirdanmsc/venv/lib/python3.10/site-packages/albumentations/core/validation.py:114: UserWarning: ShiftScaleRotate is a special case of Affine transform. Please use Affine transform instead.\n",
      "  original_init(self, **validated_kwargs)\n"
     ]
    }
   ],
   "source": [
    "# ====================================================\n",
    "# DATASET & DATALOADER\n",
    "# ====================================================\n",
    "train_transform = A.Compose([\n",
    "    A.Resize(224, 224),\n",
    "    A.ShiftScaleRotate(shift_limit=0.05, scale_limit=0.05, rotate_limit=15, p=0.5),\n",
    "    A.RandomBrightnessContrast(p=0.5),\n",
    "    A.HorizontalFlip(p=0.5),\n",
    "    A.Normalize(),\n",
    "    ToTensorV2()\n",
    "])\n",
    "\n",
    "val_transform = A.Compose([\n",
    "    A.Resize(224, 224),\n",
    "    A.Normalize(),\n",
    "    ToTensorV2()\n",
    "])\n",
    "\n",
    "class SlideDataset(Dataset):\n",
    "    def __init__(self, df, image_dir, label2id, transform=None):\n",
    "        self.df = df.reset_index(drop=True)\n",
    "        self.image_dir = image_dir\n",
    "        self.label2id = label2id\n",
    "        self.transform = transform\n",
    "\n",
    "    def __len__(self):\n",
    "        return len(self.df)\n",
    "\n",
    "    def __getitem__(self, idx):\n",
    "        row = self.df.iloc[idx]\n",
    "        slide_id = str(row[\"Slide Number\"])\n",
    "        label = self.label2id[row[\"Tumour\"]]\n",
    "        img_path = os.path.join(self.image_dir, f\"{slide_id}.isyntax.png\")\n",
    "\n",
    "        img = cv2.imread(img_path)\n",
    "        img = cv2.cvtColor(img, cv2.COLOR_BGR2RGB)\n",
    "        if self.transform:\n",
    "            img = self.transform(image=img)['image']\n",
    "        return img, label\n",
    "\n",
    "train_dataset = SlideDataset(train_df, image_dir, label2id, transform=train_transform)\n",
    "val_dataset = SlideDataset(val_df, image_dir, label2id, transform=val_transform)\n",
    "test_dataset = SlideDataset(test_df, image_dir, label2id, transform=val_transform)\n",
    "\n",
    "train_loader = DataLoader(train_dataset, batch_size=16, shuffle=True, num_workers=4, pin_memory=True)\n",
    "val_loader = DataLoader(val_dataset, batch_size=16, shuffle=False, num_workers=4, pin_memory=True)\n",
    "test_loader = DataLoader(test_dataset, batch_size=16, shuffle=False, num_workers=4, pin_memory=True)"
   ]
  },
  {
   "cell_type": "code",
   "execution_count": 14,
   "id": "55a72223-973b-4020-a0db-ea247f4513a1",
   "metadata": {},
   "outputs": [
    {
     "name": "stderr",
     "output_type": "stream",
     "text": [
      "2025-07-22 08:31:36.590543: I external/local_xla/xla/tsl/cuda/cudart_stub.cc:32] Could not find cuda drivers on your machine, GPU will not be used.\n",
      "2025-07-22 08:31:36.602614: E external/local_xla/xla/stream_executor/cuda/cuda_fft.cc:467] Unable to register cuFFT factory: Attempting to register factory for plugin cuFFT when one has already been registered\n",
      "WARNING: All log messages before absl::InitializeLog() is called are written to STDERR\n",
      "E0000 00:00:1753173096.622417    1833 cuda_dnn.cc:8579] Unable to register cuDNN factory: Attempting to register factory for plugin cuDNN when one has already been registered\n",
      "E0000 00:00:1753173096.628471    1833 cuda_blas.cc:1407] Unable to register cuBLAS factory: Attempting to register factory for plugin cuBLAS when one has already been registered\n",
      "W0000 00:00:1753173096.644039    1833 computation_placer.cc:177] computation placer already registered. Please check linkage and avoid linking the same target more than once.\n",
      "W0000 00:00:1753173096.644052    1833 computation_placer.cc:177] computation placer already registered. Please check linkage and avoid linking the same target more than once.\n",
      "W0000 00:00:1753173096.644054    1833 computation_placer.cc:177] computation placer already registered. Please check linkage and avoid linking the same target more than once.\n",
      "W0000 00:00:1753173096.644056    1833 computation_placer.cc:177] computation placer already registered. Please check linkage and avoid linking the same target more than once.\n",
      "2025-07-22 08:31:36.649181: I tensorflow/core/platform/cpu_feature_guard.cc:210] This TensorFlow binary is optimized to use available CPU instructions in performance-critical operations.\n",
      "To enable the following instructions: AVX2 FMA, in other operations, rebuild TensorFlow with the appropriate compiler flags.\n"
     ]
    },
    {
     "data": {
      "text/plain": [
       "CustomTextCLIP(\n",
       "  (visual): TimmModel(\n",
       "    (trunk): VisionTransformer(\n",
       "      (patch_embed): PatchEmbed(\n",
       "        (proj): Conv2d(3, 768, kernel_size=(16, 16), stride=(16, 16))\n",
       "        (norm): Identity()\n",
       "      )\n",
       "      (pos_drop): Dropout(p=0.0, inplace=False)\n",
       "      (patch_drop): Identity()\n",
       "      (norm_pre): Identity()\n",
       "      (blocks): Sequential(\n",
       "        (0): Block(\n",
       "          (norm1): LayerNorm((768,), eps=1e-06, elementwise_affine=True)\n",
       "          (attn): Attention(\n",
       "            (qkv): Linear(in_features=768, out_features=2304, bias=True)\n",
       "            (q_norm): Identity()\n",
       "            (k_norm): Identity()\n",
       "            (attn_drop): Dropout(p=0.0, inplace=False)\n",
       "            (norm): Identity()\n",
       "            (proj): Linear(in_features=768, out_features=768, bias=True)\n",
       "            (proj_drop): Dropout(p=0.0, inplace=False)\n",
       "          )\n",
       "          (ls1): Identity()\n",
       "          (drop_path1): Identity()\n",
       "          (norm2): LayerNorm((768,), eps=1e-06, elementwise_affine=True)\n",
       "          (mlp): Mlp(\n",
       "            (fc1): Linear(in_features=768, out_features=3072, bias=True)\n",
       "            (act): GELU(approximate='none')\n",
       "            (drop1): Dropout(p=0.0, inplace=False)\n",
       "            (norm): Identity()\n",
       "            (fc2): Linear(in_features=3072, out_features=768, bias=True)\n",
       "            (drop2): Dropout(p=0.0, inplace=False)\n",
       "          )\n",
       "          (ls2): Identity()\n",
       "          (drop_path2): Identity()\n",
       "        )\n",
       "        (1): Block(\n",
       "          (norm1): LayerNorm((768,), eps=1e-06, elementwise_affine=True)\n",
       "          (attn): Attention(\n",
       "            (qkv): Linear(in_features=768, out_features=2304, bias=True)\n",
       "            (q_norm): Identity()\n",
       "            (k_norm): Identity()\n",
       "            (attn_drop): Dropout(p=0.0, inplace=False)\n",
       "            (norm): Identity()\n",
       "            (proj): Linear(in_features=768, out_features=768, bias=True)\n",
       "            (proj_drop): Dropout(p=0.0, inplace=False)\n",
       "          )\n",
       "          (ls1): Identity()\n",
       "          (drop_path1): Identity()\n",
       "          (norm2): LayerNorm((768,), eps=1e-06, elementwise_affine=True)\n",
       "          (mlp): Mlp(\n",
       "            (fc1): Linear(in_features=768, out_features=3072, bias=True)\n",
       "            (act): GELU(approximate='none')\n",
       "            (drop1): Dropout(p=0.0, inplace=False)\n",
       "            (norm): Identity()\n",
       "            (fc2): Linear(in_features=3072, out_features=768, bias=True)\n",
       "            (drop2): Dropout(p=0.0, inplace=False)\n",
       "          )\n",
       "          (ls2): Identity()\n",
       "          (drop_path2): Identity()\n",
       "        )\n",
       "        (2): Block(\n",
       "          (norm1): LayerNorm((768,), eps=1e-06, elementwise_affine=True)\n",
       "          (attn): Attention(\n",
       "            (qkv): Linear(in_features=768, out_features=2304, bias=True)\n",
       "            (q_norm): Identity()\n",
       "            (k_norm): Identity()\n",
       "            (attn_drop): Dropout(p=0.0, inplace=False)\n",
       "            (norm): Identity()\n",
       "            (proj): Linear(in_features=768, out_features=768, bias=True)\n",
       "            (proj_drop): Dropout(p=0.0, inplace=False)\n",
       "          )\n",
       "          (ls1): Identity()\n",
       "          (drop_path1): Identity()\n",
       "          (norm2): LayerNorm((768,), eps=1e-06, elementwise_affine=True)\n",
       "          (mlp): Mlp(\n",
       "            (fc1): Linear(in_features=768, out_features=3072, bias=True)\n",
       "            (act): GELU(approximate='none')\n",
       "            (drop1): Dropout(p=0.0, inplace=False)\n",
       "            (norm): Identity()\n",
       "            (fc2): Linear(in_features=3072, out_features=768, bias=True)\n",
       "            (drop2): Dropout(p=0.0, inplace=False)\n",
       "          )\n",
       "          (ls2): Identity()\n",
       "          (drop_path2): Identity()\n",
       "        )\n",
       "        (3): Block(\n",
       "          (norm1): LayerNorm((768,), eps=1e-06, elementwise_affine=True)\n",
       "          (attn): Attention(\n",
       "            (qkv): Linear(in_features=768, out_features=2304, bias=True)\n",
       "            (q_norm): Identity()\n",
       "            (k_norm): Identity()\n",
       "            (attn_drop): Dropout(p=0.0, inplace=False)\n",
       "            (norm): Identity()\n",
       "            (proj): Linear(in_features=768, out_features=768, bias=True)\n",
       "            (proj_drop): Dropout(p=0.0, inplace=False)\n",
       "          )\n",
       "          (ls1): Identity()\n",
       "          (drop_path1): Identity()\n",
       "          (norm2): LayerNorm((768,), eps=1e-06, elementwise_affine=True)\n",
       "          (mlp): Mlp(\n",
       "            (fc1): Linear(in_features=768, out_features=3072, bias=True)\n",
       "            (act): GELU(approximate='none')\n",
       "            (drop1): Dropout(p=0.0, inplace=False)\n",
       "            (norm): Identity()\n",
       "            (fc2): Linear(in_features=3072, out_features=768, bias=True)\n",
       "            (drop2): Dropout(p=0.0, inplace=False)\n",
       "          )\n",
       "          (ls2): Identity()\n",
       "          (drop_path2): Identity()\n",
       "        )\n",
       "        (4): Block(\n",
       "          (norm1): LayerNorm((768,), eps=1e-06, elementwise_affine=True)\n",
       "          (attn): Attention(\n",
       "            (qkv): Linear(in_features=768, out_features=2304, bias=True)\n",
       "            (q_norm): Identity()\n",
       "            (k_norm): Identity()\n",
       "            (attn_drop): Dropout(p=0.0, inplace=False)\n",
       "            (norm): Identity()\n",
       "            (proj): Linear(in_features=768, out_features=768, bias=True)\n",
       "            (proj_drop): Dropout(p=0.0, inplace=False)\n",
       "          )\n",
       "          (ls1): Identity()\n",
       "          (drop_path1): Identity()\n",
       "          (norm2): LayerNorm((768,), eps=1e-06, elementwise_affine=True)\n",
       "          (mlp): Mlp(\n",
       "            (fc1): Linear(in_features=768, out_features=3072, bias=True)\n",
       "            (act): GELU(approximate='none')\n",
       "            (drop1): Dropout(p=0.0, inplace=False)\n",
       "            (norm): Identity()\n",
       "            (fc2): Linear(in_features=3072, out_features=768, bias=True)\n",
       "            (drop2): Dropout(p=0.0, inplace=False)\n",
       "          )\n",
       "          (ls2): Identity()\n",
       "          (drop_path2): Identity()\n",
       "        )\n",
       "        (5): Block(\n",
       "          (norm1): LayerNorm((768,), eps=1e-06, elementwise_affine=True)\n",
       "          (attn): Attention(\n",
       "            (qkv): Linear(in_features=768, out_features=2304, bias=True)\n",
       "            (q_norm): Identity()\n",
       "            (k_norm): Identity()\n",
       "            (attn_drop): Dropout(p=0.0, inplace=False)\n",
       "            (norm): Identity()\n",
       "            (proj): Linear(in_features=768, out_features=768, bias=True)\n",
       "            (proj_drop): Dropout(p=0.0, inplace=False)\n",
       "          )\n",
       "          (ls1): Identity()\n",
       "          (drop_path1): Identity()\n",
       "          (norm2): LayerNorm((768,), eps=1e-06, elementwise_affine=True)\n",
       "          (mlp): Mlp(\n",
       "            (fc1): Linear(in_features=768, out_features=3072, bias=True)\n",
       "            (act): GELU(approximate='none')\n",
       "            (drop1): Dropout(p=0.0, inplace=False)\n",
       "            (norm): Identity()\n",
       "            (fc2): Linear(in_features=3072, out_features=768, bias=True)\n",
       "            (drop2): Dropout(p=0.0, inplace=False)\n",
       "          )\n",
       "          (ls2): Identity()\n",
       "          (drop_path2): Identity()\n",
       "        )\n",
       "        (6): Block(\n",
       "          (norm1): LayerNorm((768,), eps=1e-06, elementwise_affine=True)\n",
       "          (attn): Attention(\n",
       "            (qkv): Linear(in_features=768, out_features=2304, bias=True)\n",
       "            (q_norm): Identity()\n",
       "            (k_norm): Identity()\n",
       "            (attn_drop): Dropout(p=0.0, inplace=False)\n",
       "            (norm): Identity()\n",
       "            (proj): Linear(in_features=768, out_features=768, bias=True)\n",
       "            (proj_drop): Dropout(p=0.0, inplace=False)\n",
       "          )\n",
       "          (ls1): Identity()\n",
       "          (drop_path1): Identity()\n",
       "          (norm2): LayerNorm((768,), eps=1e-06, elementwise_affine=True)\n",
       "          (mlp): Mlp(\n",
       "            (fc1): Linear(in_features=768, out_features=3072, bias=True)\n",
       "            (act): GELU(approximate='none')\n",
       "            (drop1): Dropout(p=0.0, inplace=False)\n",
       "            (norm): Identity()\n",
       "            (fc2): Linear(in_features=3072, out_features=768, bias=True)\n",
       "            (drop2): Dropout(p=0.0, inplace=False)\n",
       "          )\n",
       "          (ls2): Identity()\n",
       "          (drop_path2): Identity()\n",
       "        )\n",
       "        (7): Block(\n",
       "          (norm1): LayerNorm((768,), eps=1e-06, elementwise_affine=True)\n",
       "          (attn): Attention(\n",
       "            (qkv): Linear(in_features=768, out_features=2304, bias=True)\n",
       "            (q_norm): Identity()\n",
       "            (k_norm): Identity()\n",
       "            (attn_drop): Dropout(p=0.0, inplace=False)\n",
       "            (norm): Identity()\n",
       "            (proj): Linear(in_features=768, out_features=768, bias=True)\n",
       "            (proj_drop): Dropout(p=0.0, inplace=False)\n",
       "          )\n",
       "          (ls1): Identity()\n",
       "          (drop_path1): Identity()\n",
       "          (norm2): LayerNorm((768,), eps=1e-06, elementwise_affine=True)\n",
       "          (mlp): Mlp(\n",
       "            (fc1): Linear(in_features=768, out_features=3072, bias=True)\n",
       "            (act): GELU(approximate='none')\n",
       "            (drop1): Dropout(p=0.0, inplace=False)\n",
       "            (norm): Identity()\n",
       "            (fc2): Linear(in_features=3072, out_features=768, bias=True)\n",
       "            (drop2): Dropout(p=0.0, inplace=False)\n",
       "          )\n",
       "          (ls2): Identity()\n",
       "          (drop_path2): Identity()\n",
       "        )\n",
       "        (8): Block(\n",
       "          (norm1): LayerNorm((768,), eps=1e-06, elementwise_affine=True)\n",
       "          (attn): Attention(\n",
       "            (qkv): Linear(in_features=768, out_features=2304, bias=True)\n",
       "            (q_norm): Identity()\n",
       "            (k_norm): Identity()\n",
       "            (attn_drop): Dropout(p=0.0, inplace=False)\n",
       "            (norm): Identity()\n",
       "            (proj): Linear(in_features=768, out_features=768, bias=True)\n",
       "            (proj_drop): Dropout(p=0.0, inplace=False)\n",
       "          )\n",
       "          (ls1): Identity()\n",
       "          (drop_path1): Identity()\n",
       "          (norm2): LayerNorm((768,), eps=1e-06, elementwise_affine=True)\n",
       "          (mlp): Mlp(\n",
       "            (fc1): Linear(in_features=768, out_features=3072, bias=True)\n",
       "            (act): GELU(approximate='none')\n",
       "            (drop1): Dropout(p=0.0, inplace=False)\n",
       "            (norm): Identity()\n",
       "            (fc2): Linear(in_features=3072, out_features=768, bias=True)\n",
       "            (drop2): Dropout(p=0.0, inplace=False)\n",
       "          )\n",
       "          (ls2): Identity()\n",
       "          (drop_path2): Identity()\n",
       "        )\n",
       "        (9): Block(\n",
       "          (norm1): LayerNorm((768,), eps=1e-06, elementwise_affine=True)\n",
       "          (attn): Attention(\n",
       "            (qkv): Linear(in_features=768, out_features=2304, bias=True)\n",
       "            (q_norm): Identity()\n",
       "            (k_norm): Identity()\n",
       "            (attn_drop): Dropout(p=0.0, inplace=False)\n",
       "            (norm): Identity()\n",
       "            (proj): Linear(in_features=768, out_features=768, bias=True)\n",
       "            (proj_drop): Dropout(p=0.0, inplace=False)\n",
       "          )\n",
       "          (ls1): Identity()\n",
       "          (drop_path1): Identity()\n",
       "          (norm2): LayerNorm((768,), eps=1e-06, elementwise_affine=True)\n",
       "          (mlp): Mlp(\n",
       "            (fc1): Linear(in_features=768, out_features=3072, bias=True)\n",
       "            (act): GELU(approximate='none')\n",
       "            (drop1): Dropout(p=0.0, inplace=False)\n",
       "            (norm): Identity()\n",
       "            (fc2): Linear(in_features=3072, out_features=768, bias=True)\n",
       "            (drop2): Dropout(p=0.0, inplace=False)\n",
       "          )\n",
       "          (ls2): Identity()\n",
       "          (drop_path2): Identity()\n",
       "        )\n",
       "        (10): Block(\n",
       "          (norm1): LayerNorm((768,), eps=1e-06, elementwise_affine=True)\n",
       "          (attn): Attention(\n",
       "            (qkv): Linear(in_features=768, out_features=2304, bias=True)\n",
       "            (q_norm): Identity()\n",
       "            (k_norm): Identity()\n",
       "            (attn_drop): Dropout(p=0.0, inplace=False)\n",
       "            (norm): Identity()\n",
       "            (proj): Linear(in_features=768, out_features=768, bias=True)\n",
       "            (proj_drop): Dropout(p=0.0, inplace=False)\n",
       "          )\n",
       "          (ls1): Identity()\n",
       "          (drop_path1): Identity()\n",
       "          (norm2): LayerNorm((768,), eps=1e-06, elementwise_affine=True)\n",
       "          (mlp): Mlp(\n",
       "            (fc1): Linear(in_features=768, out_features=3072, bias=True)\n",
       "            (act): GELU(approximate='none')\n",
       "            (drop1): Dropout(p=0.0, inplace=False)\n",
       "            (norm): Identity()\n",
       "            (fc2): Linear(in_features=3072, out_features=768, bias=True)\n",
       "            (drop2): Dropout(p=0.0, inplace=False)\n",
       "          )\n",
       "          (ls2): Identity()\n",
       "          (drop_path2): Identity()\n",
       "        )\n",
       "        (11): Block(\n",
       "          (norm1): LayerNorm((768,), eps=1e-06, elementwise_affine=True)\n",
       "          (attn): Attention(\n",
       "            (qkv): Linear(in_features=768, out_features=2304, bias=True)\n",
       "            (q_norm): Identity()\n",
       "            (k_norm): Identity()\n",
       "            (attn_drop): Dropout(p=0.0, inplace=False)\n",
       "            (norm): Identity()\n",
       "            (proj): Linear(in_features=768, out_features=768, bias=True)\n",
       "            (proj_drop): Dropout(p=0.0, inplace=False)\n",
       "          )\n",
       "          (ls1): Identity()\n",
       "          (drop_path1): Identity()\n",
       "          (norm2): LayerNorm((768,), eps=1e-06, elementwise_affine=True)\n",
       "          (mlp): Mlp(\n",
       "            (fc1): Linear(in_features=768, out_features=3072, bias=True)\n",
       "            (act): GELU(approximate='none')\n",
       "            (drop1): Dropout(p=0.0, inplace=False)\n",
       "            (norm): Identity()\n",
       "            (fc2): Linear(in_features=3072, out_features=768, bias=True)\n",
       "            (drop2): Dropout(p=0.0, inplace=False)\n",
       "          )\n",
       "          (ls2): Identity()\n",
       "          (drop_path2): Identity()\n",
       "        )\n",
       "      )\n",
       "      (norm): LayerNorm((768,), eps=1e-06, elementwise_affine=True)\n",
       "      (fc_norm): Identity()\n",
       "      (head_drop): Dropout(p=0.0, inplace=False)\n",
       "      (head): Identity()\n",
       "    )\n",
       "    (head): Sequential(\n",
       "      (drop): Dropout(p=0.0, inplace=False)\n",
       "      (proj): Linear(in_features=768, out_features=512, bias=False)\n",
       "    )\n",
       "  )\n",
       "  (text): HFTextEncoder(\n",
       "    (transformer): BertModel(\n",
       "      (embeddings): BertEmbeddings(\n",
       "        (word_embeddings): Embedding(30522, 768, padding_idx=0)\n",
       "        (position_embeddings): Embedding(512, 768)\n",
       "        (token_type_embeddings): Embedding(2, 768)\n",
       "        (LayerNorm): LayerNorm((768,), eps=1e-12, elementwise_affine=True)\n",
       "        (dropout): Dropout(p=0.1, inplace=False)\n",
       "      )\n",
       "      (encoder): BertEncoder(\n",
       "        (layer): ModuleList(\n",
       "          (0-11): 12 x BertLayer(\n",
       "            (attention): BertAttention(\n",
       "              (self): BertSdpaSelfAttention(\n",
       "                (query): Linear(in_features=768, out_features=768, bias=True)\n",
       "                (key): Linear(in_features=768, out_features=768, bias=True)\n",
       "                (value): Linear(in_features=768, out_features=768, bias=True)\n",
       "                (dropout): Dropout(p=0.1, inplace=False)\n",
       "              )\n",
       "              (output): BertSelfOutput(\n",
       "                (dense): Linear(in_features=768, out_features=768, bias=True)\n",
       "                (LayerNorm): LayerNorm((768,), eps=1e-12, elementwise_affine=True)\n",
       "                (dropout): Dropout(p=0.1, inplace=False)\n",
       "              )\n",
       "            )\n",
       "            (intermediate): BertIntermediate(\n",
       "              (dense): Linear(in_features=768, out_features=3072, bias=True)\n",
       "              (intermediate_act_fn): GELUActivation()\n",
       "            )\n",
       "            (output): BertOutput(\n",
       "              (dense): Linear(in_features=3072, out_features=768, bias=True)\n",
       "              (LayerNorm): LayerNorm((768,), eps=1e-12, elementwise_affine=True)\n",
       "              (dropout): Dropout(p=0.1, inplace=False)\n",
       "            )\n",
       "          )\n",
       "        )\n",
       "      )\n",
       "    )\n",
       "    (pooler): ClsLastHiddenStatePooler()\n",
       "    (proj): Sequential(\n",
       "      (0): Linear(in_features=768, out_features=640, bias=False)\n",
       "      (1): GELU(approximate='none')\n",
       "      (2): Linear(in_features=640, out_features=512, bias=False)\n",
       "    )\n",
       "  )\n",
       ")"
      ]
     },
     "execution_count": 14,
     "metadata": {},
     "output_type": "execute_result"
    }
   ],
   "source": [
    "# === Load BioMedCLIP ===\n",
    "clip_model, _ = create_model_from_pretrained(\n",
    "    'hf-hub:microsoft/BiomedCLIP-PubMedBERT_256-vit_base_patch16_224')\n",
    "tokenizer = get_tokenizer(\n",
    "    'hf-hub:microsoft/BiomedCLIP-PubMedBERT_256-vit_base_patch16_224')\n",
    "clip_model.to(device)"
   ]
  },
  {
   "cell_type": "code",
   "execution_count": 15,
   "id": "c0d1a483-07ee-4c70-a36e-714aad9930ae",
   "metadata": {
    "scrolled": true
   },
   "outputs": [
    {
     "data": {
      "text/plain": [
       "CustomTextCLIP(\n",
       "  (visual): TimmModel(\n",
       "    (trunk): VisionTransformer(\n",
       "      (patch_embed): PatchEmbed(\n",
       "        (proj): Conv2d(3, 768, kernel_size=(16, 16), stride=(16, 16))\n",
       "        (norm): Identity()\n",
       "      )\n",
       "      (pos_drop): Dropout(p=0.0, inplace=False)\n",
       "      (patch_drop): Identity()\n",
       "      (norm_pre): Identity()\n",
       "      (blocks): Sequential(\n",
       "        (0): Block(\n",
       "          (norm1): LayerNorm((768,), eps=1e-06, elementwise_affine=True)\n",
       "          (attn): Attention(\n",
       "            (qkv): Linear(in_features=768, out_features=2304, bias=True)\n",
       "            (q_norm): Identity()\n",
       "            (k_norm): Identity()\n",
       "            (attn_drop): Dropout(p=0.0, inplace=False)\n",
       "            (norm): Identity()\n",
       "            (proj): Linear(in_features=768, out_features=768, bias=True)\n",
       "            (proj_drop): Dropout(p=0.0, inplace=False)\n",
       "          )\n",
       "          (ls1): Identity()\n",
       "          (drop_path1): Identity()\n",
       "          (norm2): LayerNorm((768,), eps=1e-06, elementwise_affine=True)\n",
       "          (mlp): Mlp(\n",
       "            (fc1): Linear(in_features=768, out_features=3072, bias=True)\n",
       "            (act): GELU(approximate='none')\n",
       "            (drop1): Dropout(p=0.0, inplace=False)\n",
       "            (norm): Identity()\n",
       "            (fc2): Linear(in_features=3072, out_features=768, bias=True)\n",
       "            (drop2): Dropout(p=0.0, inplace=False)\n",
       "          )\n",
       "          (ls2): Identity()\n",
       "          (drop_path2): Identity()\n",
       "        )\n",
       "        (1): Block(\n",
       "          (norm1): LayerNorm((768,), eps=1e-06, elementwise_affine=True)\n",
       "          (attn): Attention(\n",
       "            (qkv): Linear(in_features=768, out_features=2304, bias=True)\n",
       "            (q_norm): Identity()\n",
       "            (k_norm): Identity()\n",
       "            (attn_drop): Dropout(p=0.0, inplace=False)\n",
       "            (norm): Identity()\n",
       "            (proj): Linear(in_features=768, out_features=768, bias=True)\n",
       "            (proj_drop): Dropout(p=0.0, inplace=False)\n",
       "          )\n",
       "          (ls1): Identity()\n",
       "          (drop_path1): Identity()\n",
       "          (norm2): LayerNorm((768,), eps=1e-06, elementwise_affine=True)\n",
       "          (mlp): Mlp(\n",
       "            (fc1): Linear(in_features=768, out_features=3072, bias=True)\n",
       "            (act): GELU(approximate='none')\n",
       "            (drop1): Dropout(p=0.0, inplace=False)\n",
       "            (norm): Identity()\n",
       "            (fc2): Linear(in_features=3072, out_features=768, bias=True)\n",
       "            (drop2): Dropout(p=0.0, inplace=False)\n",
       "          )\n",
       "          (ls2): Identity()\n",
       "          (drop_path2): Identity()\n",
       "        )\n",
       "        (2): Block(\n",
       "          (norm1): LayerNorm((768,), eps=1e-06, elementwise_affine=True)\n",
       "          (attn): Attention(\n",
       "            (qkv): Linear(in_features=768, out_features=2304, bias=True)\n",
       "            (q_norm): Identity()\n",
       "            (k_norm): Identity()\n",
       "            (attn_drop): Dropout(p=0.0, inplace=False)\n",
       "            (norm): Identity()\n",
       "            (proj): Linear(in_features=768, out_features=768, bias=True)\n",
       "            (proj_drop): Dropout(p=0.0, inplace=False)\n",
       "          )\n",
       "          (ls1): Identity()\n",
       "          (drop_path1): Identity()\n",
       "          (norm2): LayerNorm((768,), eps=1e-06, elementwise_affine=True)\n",
       "          (mlp): Mlp(\n",
       "            (fc1): Linear(in_features=768, out_features=3072, bias=True)\n",
       "            (act): GELU(approximate='none')\n",
       "            (drop1): Dropout(p=0.0, inplace=False)\n",
       "            (norm): Identity()\n",
       "            (fc2): Linear(in_features=3072, out_features=768, bias=True)\n",
       "            (drop2): Dropout(p=0.0, inplace=False)\n",
       "          )\n",
       "          (ls2): Identity()\n",
       "          (drop_path2): Identity()\n",
       "        )\n",
       "        (3): Block(\n",
       "          (norm1): LayerNorm((768,), eps=1e-06, elementwise_affine=True)\n",
       "          (attn): Attention(\n",
       "            (qkv): Linear(in_features=768, out_features=2304, bias=True)\n",
       "            (q_norm): Identity()\n",
       "            (k_norm): Identity()\n",
       "            (attn_drop): Dropout(p=0.0, inplace=False)\n",
       "            (norm): Identity()\n",
       "            (proj): Linear(in_features=768, out_features=768, bias=True)\n",
       "            (proj_drop): Dropout(p=0.0, inplace=False)\n",
       "          )\n",
       "          (ls1): Identity()\n",
       "          (drop_path1): Identity()\n",
       "          (norm2): LayerNorm((768,), eps=1e-06, elementwise_affine=True)\n",
       "          (mlp): Mlp(\n",
       "            (fc1): Linear(in_features=768, out_features=3072, bias=True)\n",
       "            (act): GELU(approximate='none')\n",
       "            (drop1): Dropout(p=0.0, inplace=False)\n",
       "            (norm): Identity()\n",
       "            (fc2): Linear(in_features=3072, out_features=768, bias=True)\n",
       "            (drop2): Dropout(p=0.0, inplace=False)\n",
       "          )\n",
       "          (ls2): Identity()\n",
       "          (drop_path2): Identity()\n",
       "        )\n",
       "        (4): Block(\n",
       "          (norm1): LayerNorm((768,), eps=1e-06, elementwise_affine=True)\n",
       "          (attn): Attention(\n",
       "            (qkv): Linear(in_features=768, out_features=2304, bias=True)\n",
       "            (q_norm): Identity()\n",
       "            (k_norm): Identity()\n",
       "            (attn_drop): Dropout(p=0.0, inplace=False)\n",
       "            (norm): Identity()\n",
       "            (proj): Linear(in_features=768, out_features=768, bias=True)\n",
       "            (proj_drop): Dropout(p=0.0, inplace=False)\n",
       "          )\n",
       "          (ls1): Identity()\n",
       "          (drop_path1): Identity()\n",
       "          (norm2): LayerNorm((768,), eps=1e-06, elementwise_affine=True)\n",
       "          (mlp): Mlp(\n",
       "            (fc1): Linear(in_features=768, out_features=3072, bias=True)\n",
       "            (act): GELU(approximate='none')\n",
       "            (drop1): Dropout(p=0.0, inplace=False)\n",
       "            (norm): Identity()\n",
       "            (fc2): Linear(in_features=3072, out_features=768, bias=True)\n",
       "            (drop2): Dropout(p=0.0, inplace=False)\n",
       "          )\n",
       "          (ls2): Identity()\n",
       "          (drop_path2): Identity()\n",
       "        )\n",
       "        (5): Block(\n",
       "          (norm1): LayerNorm((768,), eps=1e-06, elementwise_affine=True)\n",
       "          (attn): Attention(\n",
       "            (qkv): Linear(in_features=768, out_features=2304, bias=True)\n",
       "            (q_norm): Identity()\n",
       "            (k_norm): Identity()\n",
       "            (attn_drop): Dropout(p=0.0, inplace=False)\n",
       "            (norm): Identity()\n",
       "            (proj): Linear(in_features=768, out_features=768, bias=True)\n",
       "            (proj_drop): Dropout(p=0.0, inplace=False)\n",
       "          )\n",
       "          (ls1): Identity()\n",
       "          (drop_path1): Identity()\n",
       "          (norm2): LayerNorm((768,), eps=1e-06, elementwise_affine=True)\n",
       "          (mlp): Mlp(\n",
       "            (fc1): Linear(in_features=768, out_features=3072, bias=True)\n",
       "            (act): GELU(approximate='none')\n",
       "            (drop1): Dropout(p=0.0, inplace=False)\n",
       "            (norm): Identity()\n",
       "            (fc2): Linear(in_features=3072, out_features=768, bias=True)\n",
       "            (drop2): Dropout(p=0.0, inplace=False)\n",
       "          )\n",
       "          (ls2): Identity()\n",
       "          (drop_path2): Identity()\n",
       "        )\n",
       "        (6): Block(\n",
       "          (norm1): LayerNorm((768,), eps=1e-06, elementwise_affine=True)\n",
       "          (attn): Attention(\n",
       "            (qkv): Linear(in_features=768, out_features=2304, bias=True)\n",
       "            (q_norm): Identity()\n",
       "            (k_norm): Identity()\n",
       "            (attn_drop): Dropout(p=0.0, inplace=False)\n",
       "            (norm): Identity()\n",
       "            (proj): Linear(in_features=768, out_features=768, bias=True)\n",
       "            (proj_drop): Dropout(p=0.0, inplace=False)\n",
       "          )\n",
       "          (ls1): Identity()\n",
       "          (drop_path1): Identity()\n",
       "          (norm2): LayerNorm((768,), eps=1e-06, elementwise_affine=True)\n",
       "          (mlp): Mlp(\n",
       "            (fc1): Linear(in_features=768, out_features=3072, bias=True)\n",
       "            (act): GELU(approximate='none')\n",
       "            (drop1): Dropout(p=0.0, inplace=False)\n",
       "            (norm): Identity()\n",
       "            (fc2): Linear(in_features=3072, out_features=768, bias=True)\n",
       "            (drop2): Dropout(p=0.0, inplace=False)\n",
       "          )\n",
       "          (ls2): Identity()\n",
       "          (drop_path2): Identity()\n",
       "        )\n",
       "        (7): Block(\n",
       "          (norm1): LayerNorm((768,), eps=1e-06, elementwise_affine=True)\n",
       "          (attn): Attention(\n",
       "            (qkv): Linear(in_features=768, out_features=2304, bias=True)\n",
       "            (q_norm): Identity()\n",
       "            (k_norm): Identity()\n",
       "            (attn_drop): Dropout(p=0.0, inplace=False)\n",
       "            (norm): Identity()\n",
       "            (proj): Linear(in_features=768, out_features=768, bias=True)\n",
       "            (proj_drop): Dropout(p=0.0, inplace=False)\n",
       "          )\n",
       "          (ls1): Identity()\n",
       "          (drop_path1): Identity()\n",
       "          (norm2): LayerNorm((768,), eps=1e-06, elementwise_affine=True)\n",
       "          (mlp): Mlp(\n",
       "            (fc1): Linear(in_features=768, out_features=3072, bias=True)\n",
       "            (act): GELU(approximate='none')\n",
       "            (drop1): Dropout(p=0.0, inplace=False)\n",
       "            (norm): Identity()\n",
       "            (fc2): Linear(in_features=3072, out_features=768, bias=True)\n",
       "            (drop2): Dropout(p=0.0, inplace=False)\n",
       "          )\n",
       "          (ls2): Identity()\n",
       "          (drop_path2): Identity()\n",
       "        )\n",
       "        (8): Block(\n",
       "          (norm1): LayerNorm((768,), eps=1e-06, elementwise_affine=True)\n",
       "          (attn): Attention(\n",
       "            (qkv): Linear(in_features=768, out_features=2304, bias=True)\n",
       "            (q_norm): Identity()\n",
       "            (k_norm): Identity()\n",
       "            (attn_drop): Dropout(p=0.0, inplace=False)\n",
       "            (norm): Identity()\n",
       "            (proj): Linear(in_features=768, out_features=768, bias=True)\n",
       "            (proj_drop): Dropout(p=0.0, inplace=False)\n",
       "          )\n",
       "          (ls1): Identity()\n",
       "          (drop_path1): Identity()\n",
       "          (norm2): LayerNorm((768,), eps=1e-06, elementwise_affine=True)\n",
       "          (mlp): Mlp(\n",
       "            (fc1): Linear(in_features=768, out_features=3072, bias=True)\n",
       "            (act): GELU(approximate='none')\n",
       "            (drop1): Dropout(p=0.0, inplace=False)\n",
       "            (norm): Identity()\n",
       "            (fc2): Linear(in_features=3072, out_features=768, bias=True)\n",
       "            (drop2): Dropout(p=0.0, inplace=False)\n",
       "          )\n",
       "          (ls2): Identity()\n",
       "          (drop_path2): Identity()\n",
       "        )\n",
       "        (9): Block(\n",
       "          (norm1): LayerNorm((768,), eps=1e-06, elementwise_affine=True)\n",
       "          (attn): Attention(\n",
       "            (qkv): Linear(in_features=768, out_features=2304, bias=True)\n",
       "            (q_norm): Identity()\n",
       "            (k_norm): Identity()\n",
       "            (attn_drop): Dropout(p=0.0, inplace=False)\n",
       "            (norm): Identity()\n",
       "            (proj): Linear(in_features=768, out_features=768, bias=True)\n",
       "            (proj_drop): Dropout(p=0.0, inplace=False)\n",
       "          )\n",
       "          (ls1): Identity()\n",
       "          (drop_path1): Identity()\n",
       "          (norm2): LayerNorm((768,), eps=1e-06, elementwise_affine=True)\n",
       "          (mlp): Mlp(\n",
       "            (fc1): Linear(in_features=768, out_features=3072, bias=True)\n",
       "            (act): GELU(approximate='none')\n",
       "            (drop1): Dropout(p=0.0, inplace=False)\n",
       "            (norm): Identity()\n",
       "            (fc2): Linear(in_features=3072, out_features=768, bias=True)\n",
       "            (drop2): Dropout(p=0.0, inplace=False)\n",
       "          )\n",
       "          (ls2): Identity()\n",
       "          (drop_path2): Identity()\n",
       "        )\n",
       "        (10): Block(\n",
       "          (norm1): LayerNorm((768,), eps=1e-06, elementwise_affine=True)\n",
       "          (attn): Attention(\n",
       "            (qkv): Linear(in_features=768, out_features=2304, bias=True)\n",
       "            (q_norm): Identity()\n",
       "            (k_norm): Identity()\n",
       "            (attn_drop): Dropout(p=0.0, inplace=False)\n",
       "            (norm): Identity()\n",
       "            (proj): Linear(in_features=768, out_features=768, bias=True)\n",
       "            (proj_drop): Dropout(p=0.0, inplace=False)\n",
       "          )\n",
       "          (ls1): Identity()\n",
       "          (drop_path1): Identity()\n",
       "          (norm2): LayerNorm((768,), eps=1e-06, elementwise_affine=True)\n",
       "          (mlp): Mlp(\n",
       "            (fc1): Linear(in_features=768, out_features=3072, bias=True)\n",
       "            (act): GELU(approximate='none')\n",
       "            (drop1): Dropout(p=0.0, inplace=False)\n",
       "            (norm): Identity()\n",
       "            (fc2): Linear(in_features=3072, out_features=768, bias=True)\n",
       "            (drop2): Dropout(p=0.0, inplace=False)\n",
       "          )\n",
       "          (ls2): Identity()\n",
       "          (drop_path2): Identity()\n",
       "        )\n",
       "        (11): Block(\n",
       "          (norm1): LayerNorm((768,), eps=1e-06, elementwise_affine=True)\n",
       "          (attn): Attention(\n",
       "            (qkv): Linear(in_features=768, out_features=2304, bias=True)\n",
       "            (q_norm): Identity()\n",
       "            (k_norm): Identity()\n",
       "            (attn_drop): Dropout(p=0.0, inplace=False)\n",
       "            (norm): Identity()\n",
       "            (proj): Linear(in_features=768, out_features=768, bias=True)\n",
       "            (proj_drop): Dropout(p=0.0, inplace=False)\n",
       "          )\n",
       "          (ls1): Identity()\n",
       "          (drop_path1): Identity()\n",
       "          (norm2): LayerNorm((768,), eps=1e-06, elementwise_affine=True)\n",
       "          (mlp): Mlp(\n",
       "            (fc1): Linear(in_features=768, out_features=3072, bias=True)\n",
       "            (act): GELU(approximate='none')\n",
       "            (drop1): Dropout(p=0.0, inplace=False)\n",
       "            (norm): Identity()\n",
       "            (fc2): Linear(in_features=3072, out_features=768, bias=True)\n",
       "            (drop2): Dropout(p=0.0, inplace=False)\n",
       "          )\n",
       "          (ls2): Identity()\n",
       "          (drop_path2): Identity()\n",
       "        )\n",
       "      )\n",
       "      (norm): LayerNorm((768,), eps=1e-06, elementwise_affine=True)\n",
       "      (fc_norm): Identity()\n",
       "      (head_drop): Dropout(p=0.0, inplace=False)\n",
       "      (head): Identity()\n",
       "    )\n",
       "    (head): Sequential(\n",
       "      (drop): Dropout(p=0.0, inplace=False)\n",
       "      (proj): Linear(in_features=768, out_features=512, bias=False)\n",
       "    )\n",
       "  )\n",
       "  (text): HFTextEncoder(\n",
       "    (transformer): BertModel(\n",
       "      (embeddings): BertEmbeddings(\n",
       "        (word_embeddings): Embedding(30522, 768, padding_idx=0)\n",
       "        (position_embeddings): Embedding(512, 768)\n",
       "        (token_type_embeddings): Embedding(2, 768)\n",
       "        (LayerNorm): LayerNorm((768,), eps=1e-12, elementwise_affine=True)\n",
       "        (dropout): Dropout(p=0.1, inplace=False)\n",
       "      )\n",
       "      (encoder): BertEncoder(\n",
       "        (layer): ModuleList(\n",
       "          (0-11): 12 x BertLayer(\n",
       "            (attention): BertAttention(\n",
       "              (self): BertSdpaSelfAttention(\n",
       "                (query): Linear(in_features=768, out_features=768, bias=True)\n",
       "                (key): Linear(in_features=768, out_features=768, bias=True)\n",
       "                (value): Linear(in_features=768, out_features=768, bias=True)\n",
       "                (dropout): Dropout(p=0.1, inplace=False)\n",
       "              )\n",
       "              (output): BertSelfOutput(\n",
       "                (dense): Linear(in_features=768, out_features=768, bias=True)\n",
       "                (LayerNorm): LayerNorm((768,), eps=1e-12, elementwise_affine=True)\n",
       "                (dropout): Dropout(p=0.1, inplace=False)\n",
       "              )\n",
       "            )\n",
       "            (intermediate): BertIntermediate(\n",
       "              (dense): Linear(in_features=768, out_features=3072, bias=True)\n",
       "              (intermediate_act_fn): GELUActivation()\n",
       "            )\n",
       "            (output): BertOutput(\n",
       "              (dense): Linear(in_features=3072, out_features=768, bias=True)\n",
       "              (LayerNorm): LayerNorm((768,), eps=1e-12, elementwise_affine=True)\n",
       "              (dropout): Dropout(p=0.1, inplace=False)\n",
       "            )\n",
       "          )\n",
       "        )\n",
       "      )\n",
       "    )\n",
       "    (pooler): ClsLastHiddenStatePooler()\n",
       "    (proj): Sequential(\n",
       "      (0): Linear(in_features=768, out_features=640, bias=False)\n",
       "      (1): GELU(approximate='none')\n",
       "      (2): Linear(in_features=640, out_features=512, bias=False)\n",
       "    )\n",
       "  )\n",
       ")"
      ]
     },
     "execution_count": 15,
     "metadata": {},
     "output_type": "execute_result"
    }
   ],
   "source": [
    "# Freeze all layers first\n",
    "for param in clip_model.parameters():\n",
    "    param.requires_grad = False\n",
    "\n",
    "# Unfreeze last visual transformer block\n",
    "if hasattr(clip_model.visual, 'blocks'):\n",
    "    for block in clip_model.visual.blocks[-3:]:\n",
    "        for param in block.parameters():\n",
    "            param.requires_grad = True\n",
    "\n",
    "if hasattr(clip_model.visual, 'norm'):\n",
    "    for param in clip_model.visual.norm.parameters():\n",
    "        param.requires_grad = True\n",
    "if hasattr(clip_model.visual, 'head'):\n",
    "    for param in clip_model.visual.head.parameters():\n",
    "        param.requires_grad = True\n",
    "\n",
    "clip_model.train()"
   ]
  },
  {
   "cell_type": "code",
   "execution_count": 16,
   "id": "6fcaa7fc-5f04-4e11-99fd-6ffa6b0e3a12",
   "metadata": {},
   "outputs": [
    {
     "name": "stdout",
     "output_type": "stream",
     "text": [
      "Requirement already satisfied: torchviz in ./venv/lib/python3.10/site-packages (0.0.3)\n",
      "Requirement already satisfied: torchview in ./venv/lib/python3.10/site-packages (0.2.7)\n",
      "Requirement already satisfied: torch in ./venv/lib/python3.10/site-packages (from torchviz) (2.7.1+cu118)\n",
      "Requirement already satisfied: graphviz in ./venv/lib/python3.10/site-packages (from torchviz) (0.21)\n",
      "Requirement already satisfied: filelock in ./venv/lib/python3.10/site-packages (from torch->torchviz) (3.13.1)\n",
      "Requirement already satisfied: typing-extensions>=4.10.0 in ./venv/lib/python3.10/site-packages (from torch->torchviz) (4.14.1)\n",
      "Requirement already satisfied: sympy>=1.13.3 in ./venv/lib/python3.10/site-packages (from torch->torchviz) (1.13.3)\n",
      "Requirement already satisfied: networkx in ./venv/lib/python3.10/site-packages (from torch->torchviz) (3.3)\n",
      "Requirement already satisfied: jinja2 in ./venv/lib/python3.10/site-packages (from torch->torchviz) (3.1.6)\n",
      "Requirement already satisfied: fsspec in ./venv/lib/python3.10/site-packages (from torch->torchviz) (2024.6.1)\n",
      "Requirement already satisfied: nvidia-cuda-nvrtc-cu11==11.8.89 in ./venv/lib/python3.10/site-packages (from torch->torchviz) (11.8.89)\n",
      "Requirement already satisfied: nvidia-cuda-runtime-cu11==11.8.89 in ./venv/lib/python3.10/site-packages (from torch->torchviz) (11.8.89)\n",
      "Requirement already satisfied: nvidia-cuda-cupti-cu11==11.8.87 in ./venv/lib/python3.10/site-packages (from torch->torchviz) (11.8.87)\n",
      "Requirement already satisfied: nvidia-cudnn-cu11==9.1.0.70 in ./venv/lib/python3.10/site-packages (from torch->torchviz) (9.1.0.70)\n",
      "Requirement already satisfied: nvidia-cublas-cu11==11.11.3.6 in ./venv/lib/python3.10/site-packages (from torch->torchviz) (11.11.3.6)\n",
      "Requirement already satisfied: nvidia-cufft-cu11==10.9.0.58 in ./venv/lib/python3.10/site-packages (from torch->torchviz) (10.9.0.58)\n",
      "Requirement already satisfied: nvidia-curand-cu11==10.3.0.86 in ./venv/lib/python3.10/site-packages (from torch->torchviz) (10.3.0.86)\n",
      "Requirement already satisfied: nvidia-cusolver-cu11==11.4.1.48 in ./venv/lib/python3.10/site-packages (from torch->torchviz) (11.4.1.48)\n",
      "Requirement already satisfied: nvidia-cusparse-cu11==11.7.5.86 in ./venv/lib/python3.10/site-packages (from torch->torchviz) (11.7.5.86)\n",
      "Requirement already satisfied: nvidia-nccl-cu11==2.21.5 in ./venv/lib/python3.10/site-packages (from torch->torchviz) (2.21.5)\n",
      "Requirement already satisfied: nvidia-nvtx-cu11==11.8.86 in ./venv/lib/python3.10/site-packages (from torch->torchviz) (11.8.86)\n",
      "Requirement already satisfied: triton==3.3.1 in ./venv/lib/python3.10/site-packages (from torch->torchviz) (3.3.1)\n",
      "Requirement already satisfied: setuptools>=40.8.0 in ./venv/lib/python3.10/site-packages (from triton==3.3.1->torch->torchviz) (80.3.1)\n",
      "Requirement already satisfied: mpmath<1.4,>=1.1.0 in ./venv/lib/python3.10/site-packages (from sympy>=1.13.3->torch->torchviz) (1.3.0)\n",
      "Requirement already satisfied: MarkupSafe>=2.0 in ./venv/lib/python3.10/site-packages (from jinja2->torch->torchviz) (3.0.2)\n",
      "Note: you may need to restart the kernel to use updated packages.\n"
     ]
    }
   ],
   "source": [
    "# pip install torchviz torchview"
   ]
  },
  {
   "cell_type": "code",
   "execution_count": 18,
   "id": "4f43840f-dfca-4723-8cc7-1d9ee5938f81",
   "metadata": {},
   "outputs": [
    {
     "name": "stdout",
     "output_type": "stream",
     "text": [
      "Requirement already satisfied: graphviz in ./venv/lib/python3.10/site-packages (0.21)\n",
      "Note: you may need to restart the kernel to use updated packages.\n"
     ]
    }
   ],
   "source": [
    "# pip install graphviz"
   ]
  },
  {
   "cell_type": "code",
   "execution_count": 17,
   "id": "afa7ca4a-b2c0-4b50-a1ff-080bdb7e69a6",
   "metadata": {},
   "outputs": [
    {
     "data": {
      "text/plain": [
       "'biomedclip_visual.png'"
      ]
     },
     "execution_count": 17,
     "metadata": {},
     "output_type": "execute_result"
    }
   ],
   "source": [
    "from torchview import draw_graph\n",
    "\n",
    "# Create a dummy input for the model\n",
    "dummy_input = torch.randn(1, 3, 224, 224).to(next(clip_model.parameters()).device)\n",
    "\n",
    "# Draw the graph\n",
    "graph = draw_graph(\n",
    "    clip_model.visual,  # Visual part of the CLIP model\n",
    "    input_size=(1, 3, 224, 224),\n",
    "    expand_nested=True,\n",
    "    graph_name=\"BioMedCLIP Visual Encoder\",\n",
    "    save_graph=True  # saves as PNG\n",
    ")\n",
    "graph.visual_graph.render(\"biomedclip_visual\", format=\"png\")  # Save as 'biomedclip_visual.png'\n"
   ]
  },
  {
   "cell_type": "code",
   "execution_count": 18,
   "id": "d2c2e389-932c-4da3-8c29-e52a3c2f3c7c",
   "metadata": {},
   "outputs": [
    {
     "data": {
      "text/plain": [
       "'biomedclip_graph.png'"
      ]
     },
     "execution_count": 18,
     "metadata": {},
     "output_type": "execute_result"
    }
   ],
   "source": [
    "from torchviz import make_dot\n",
    "\n",
    "dummy_input = torch.randn(1, 3, 224, 224).to(next(clip_model.parameters()).device)\n",
    "out = clip_model.encode_image(dummy_input)\n",
    "\n",
    "# Create and save the graph\n",
    "make_dot(out, params=dict(clip_model.named_parameters())).render(\"biomedclip_graph\", format=\"png\")"
   ]
  },
  {
   "cell_type": "code",
   "execution_count": 22,
   "id": "613eec9f-9c09-4f89-a2e9-f14a98b768b5",
   "metadata": {},
   "outputs": [],
   "source": [
    "# Text prompts\n",
    "class_names = ['no tumour', 'tumour']\n",
    "text_prompts = [f\"This image of breast tissue contains {label}\" for label in class_names]\n",
    "with torch.no_grad():\n",
    "    tokenized = tokenizer(text_prompts).to(device)\n",
    "    text_features = clip_model.encode_text(tokenized)\n",
    "    text_features = text_features / text_features.norm(dim=-1, keepdim=True)"
   ]
  },
  {
   "cell_type": "code",
   "execution_count": 23,
   "id": "cd071599-2e2e-4136-9066-a9cebb508592",
   "metadata": {},
   "outputs": [
    {
     "data": {
      "text/html": [
       "<div>\n",
       "<style scoped>\n",
       "    .dataframe tbody tr th:only-of-type {\n",
       "        vertical-align: middle;\n",
       "    }\n",
       "\n",
       "    .dataframe tbody tr th {\n",
       "        vertical-align: top;\n",
       "    }\n",
       "\n",
       "    .dataframe thead th {\n",
       "        text-align: right;\n",
       "    }\n",
       "</style>\n",
       "<table border=\"1\" class=\"dataframe\">\n",
       "  <thead>\n",
       "    <tr style=\"text-align: right;\">\n",
       "      <th></th>\n",
       "      <th>Slide Number</th>\n",
       "      <th>Tumour</th>\n",
       "    </tr>\n",
       "  </thead>\n",
       "  <tbody>\n",
       "    <tr>\n",
       "      <th>0</th>\n",
       "      <td>20170608_135006</td>\n",
       "      <td>tumour</td>\n",
       "    </tr>\n",
       "    <tr>\n",
       "      <th>1</th>\n",
       "      <td>20170608_135049</td>\n",
       "      <td>tumour</td>\n",
       "    </tr>\n",
       "    <tr>\n",
       "      <th>2</th>\n",
       "      <td>20170608_135119</td>\n",
       "      <td>tumour</td>\n",
       "    </tr>\n",
       "    <tr>\n",
       "      <th>3</th>\n",
       "      <td>20170608_135222</td>\n",
       "      <td>tumour</td>\n",
       "    </tr>\n",
       "    <tr>\n",
       "      <th>4</th>\n",
       "      <td>20170608_135320</td>\n",
       "      <td>no tumour</td>\n",
       "    </tr>\n",
       "  </tbody>\n",
       "</table>\n",
       "</div>"
      ],
      "text/plain": [
       "      Slide Number     Tumour\n",
       "0  20170608_135006     tumour\n",
       "1  20170608_135049     tumour\n",
       "2  20170608_135119     tumour\n",
       "3  20170608_135222     tumour\n",
       "4  20170608_135320  no tumour"
      ]
     },
     "execution_count": 23,
     "metadata": {},
     "output_type": "execute_result"
    }
   ],
   "source": [
    "df.head()"
   ]
  },
  {
   "cell_type": "code",
   "execution_count": 24,
   "id": "ff59446b-21c3-4972-8e14-4a9d39a5efd0",
   "metadata": {},
   "outputs": [],
   "source": [
    "# ====================================================\n",
    "# OPTIMIZER & LOSS\n",
    "# ====================================================\n",
    "trainable_params = filter(lambda p: p.requires_grad, clip_model.parameters())\n",
    "optimizer = optim.AdamW(trainable_params, lr=5e-5)\n",
    "loss_fn = nn.CrossEntropyLoss(weight=class_weights_tensor)\n",
    "temperature = nn.Parameter(torch.tensor(1.0).to(device))"
   ]
  },
  {
   "cell_type": "code",
   "execution_count": 25,
   "id": "74bbc22d-70b8-4c23-abea-e39dc2d99d6e",
   "metadata": {},
   "outputs": [
    {
     "name": "stderr",
     "output_type": "stream",
     "text": [
      "[Epoch 1]: 100%|████████████████████████████████████████████████████████████████████████| 15/15 [14:09<00:00, 56.64s/it]\n"
     ]
    },
    {
     "name": "stdout",
     "output_type": "stream",
     "text": [
      "Epoch 1 - Train Loss: 0.6907 | Train Acc: 0.5000 | Val Loss: 0.6974 | Val Acc: 0.3243\n"
     ]
    },
    {
     "name": "stderr",
     "output_type": "stream",
     "text": [
      "[Epoch 2]: 100%|████████████████████████████████████████████████████████████████████████| 15/15 [15:34<00:00, 62.32s/it]\n"
     ]
    },
    {
     "name": "stdout",
     "output_type": "stream",
     "text": [
      "Epoch 2 - Train Loss: 0.6875 | Train Acc: 0.5466 | Val Loss: 0.6933 | Val Acc: 0.3784\n"
     ]
    },
    {
     "name": "stderr",
     "output_type": "stream",
     "text": [
      "[Epoch 3]: 100%|████████████████████████████████████████████████████████████████████████| 15/15 [10:17<00:00, 41.19s/it]\n"
     ]
    },
    {
     "name": "stdout",
     "output_type": "stream",
     "text": [
      "Epoch 3 - Train Loss: 0.6857 | Train Acc: 0.5805 | Val Loss: 0.6879 | Val Acc: 0.5135\n"
     ]
    },
    {
     "name": "stderr",
     "output_type": "stream",
     "text": [
      "[Epoch 4]: 100%|████████████████████████████████████████████████████████████████████████| 15/15 [12:52<00:00, 51.53s/it]\n"
     ]
    },
    {
     "name": "stdout",
     "output_type": "stream",
     "text": [
      "Epoch 4 - Train Loss: 0.6835 | Train Acc: 0.6314 | Val Loss: 0.6846 | Val Acc: 0.5405\n"
     ]
    },
    {
     "name": "stderr",
     "output_type": "stream",
     "text": [
      "[Epoch 5]: 100%|████████████████████████████████████████████████████████████████████████| 15/15 [12:37<00:00, 50.52s/it]\n"
     ]
    },
    {
     "name": "stdout",
     "output_type": "stream",
     "text": [
      "Epoch 5 - Train Loss: 0.6802 | Train Acc: 0.7076 | Val Loss: 0.6814 | Val Acc: 0.5676\n"
     ]
    },
    {
     "name": "stderr",
     "output_type": "stream",
     "text": [
      "[Epoch 6]: 100%|████████████████████████████████████████████████████████████████████████| 15/15 [10:10<00:00, 40.68s/it]\n"
     ]
    },
    {
     "name": "stdout",
     "output_type": "stream",
     "text": [
      "Epoch 6 - Train Loss: 0.6762 | Train Acc: 0.7500 | Val Loss: 0.6762 | Val Acc: 0.6486\n"
     ]
    },
    {
     "name": "stderr",
     "output_type": "stream",
     "text": [
      "[Epoch 7]: 100%|████████████████████████████████████████████████████████████████████████| 15/15 [11:11<00:00, 44.74s/it]\n"
     ]
    },
    {
     "name": "stdout",
     "output_type": "stream",
     "text": [
      "Epoch 7 - Train Loss: 0.6723 | Train Acc: 0.7924 | Val Loss: 0.6722 | Val Acc: 0.6486\n"
     ]
    },
    {
     "name": "stderr",
     "output_type": "stream",
     "text": [
      "[Epoch 8]: 100%|████████████████████████████████████████████████████████████████████████| 15/15 [13:23<00:00, 53.57s/it]\n"
     ]
    },
    {
     "name": "stdout",
     "output_type": "stream",
     "text": [
      "Epoch 8 - Train Loss: 0.6687 | Train Acc: 0.7754 | Val Loss: 0.6665 | Val Acc: 0.7297\n"
     ]
    },
    {
     "name": "stderr",
     "output_type": "stream",
     "text": [
      "[Epoch 9]: 100%|████████████████████████████████████████████████████████████████████████| 15/15 [12:47<00:00, 51.14s/it]\n"
     ]
    },
    {
     "name": "stdout",
     "output_type": "stream",
     "text": [
      "Epoch 9 - Train Loss: 0.6659 | Train Acc: 0.7458 | Val Loss: 0.6633 | Val Acc: 0.7297\n"
     ]
    },
    {
     "name": "stderr",
     "output_type": "stream",
     "text": [
      "[Epoch 10]: 100%|███████████████████████████████████████████████████████████████████████| 15/15 [11:29<00:00, 45.96s/it]\n"
     ]
    },
    {
     "name": "stdout",
     "output_type": "stream",
     "text": [
      "Epoch 10 - Train Loss: 0.6633 | Train Acc: 0.7585 | Val Loss: 0.6584 | Val Acc: 0.7838\n"
     ]
    },
    {
     "name": "stderr",
     "output_type": "stream",
     "text": [
      "[Epoch 11]: 100%|███████████████████████████████████████████████████████████████████████| 15/15 [12:05<00:00, 48.34s/it]\n"
     ]
    },
    {
     "name": "stdout",
     "output_type": "stream",
     "text": [
      "Epoch 11 - Train Loss: 0.6579 | Train Acc: 0.7797 | Val Loss: 0.6539 | Val Acc: 0.7568\n"
     ]
    },
    {
     "name": "stderr",
     "output_type": "stream",
     "text": [
      "[Epoch 12]: 100%|███████████████████████████████████████████████████████████████████████| 15/15 [12:21<00:00, 49.43s/it]\n"
     ]
    },
    {
     "name": "stdout",
     "output_type": "stream",
     "text": [
      "Epoch 12 - Train Loss: 0.6537 | Train Acc: 0.7712 | Val Loss: 0.6510 | Val Acc: 0.7838\n"
     ]
    },
    {
     "name": "stderr",
     "output_type": "stream",
     "text": [
      "[Epoch 13]: 100%|███████████████████████████████████████████████████████████████████████| 15/15 [12:02<00:00, 48.19s/it]\n"
     ]
    },
    {
     "name": "stdout",
     "output_type": "stream",
     "text": [
      "Epoch 13 - Train Loss: 0.6498 | Train Acc: 0.7669 | Val Loss: 0.6484 | Val Acc: 0.7838\n"
     ]
    },
    {
     "name": "stderr",
     "output_type": "stream",
     "text": [
      "[Epoch 14]: 100%|███████████████████████████████████████████████████████████████████████| 15/15 [12:27<00:00, 49.85s/it]\n"
     ]
    },
    {
     "name": "stdout",
     "output_type": "stream",
     "text": [
      "Epoch 14 - Train Loss: 0.6470 | Train Acc: 0.7712 | Val Loss: 0.6434 | Val Acc: 0.8108\n"
     ]
    },
    {
     "name": "stderr",
     "output_type": "stream",
     "text": [
      "[Epoch 15]: 100%|███████████████████████████████████████████████████████████████████████| 15/15 [11:10<00:00, 44.71s/it]\n"
     ]
    },
    {
     "name": "stdout",
     "output_type": "stream",
     "text": [
      "Epoch 15 - Train Loss: 0.6428 | Train Acc: 0.8008 | Val Loss: 0.6407 | Val Acc: 0.8108\n"
     ]
    },
    {
     "name": "stderr",
     "output_type": "stream",
     "text": [
      "[Epoch 16]: 100%|███████████████████████████████████████████████████████████████████████| 15/15 [11:17<00:00, 45.14s/it]\n"
     ]
    },
    {
     "name": "stdout",
     "output_type": "stream",
     "text": [
      "Epoch 16 - Train Loss: 0.6435 | Train Acc: 0.7500 | Val Loss: 0.6379 | Val Acc: 0.8108\n"
     ]
    },
    {
     "name": "stderr",
     "output_type": "stream",
     "text": [
      "[Epoch 17]: 100%|███████████████████████████████████████████████████████████████████████| 15/15 [11:17<00:00, 45.14s/it]\n"
     ]
    },
    {
     "name": "stdout",
     "output_type": "stream",
     "text": [
      "Epoch 17 - Train Loss: 0.6392 | Train Acc: 0.7881 | Val Loss: 0.6342 | Val Acc: 0.8378\n"
     ]
    },
    {
     "name": "stderr",
     "output_type": "stream",
     "text": [
      "[Epoch 18]: 100%|███████████████████████████████████████████████████████████████████████| 15/15 [11:47<00:00, 47.18s/it]\n"
     ]
    },
    {
     "name": "stdout",
     "output_type": "stream",
     "text": [
      "Epoch 18 - Train Loss: 0.6347 | Train Acc: 0.8220 | Val Loss: 0.6314 | Val Acc: 0.8378\n"
     ]
    },
    {
     "name": "stderr",
     "output_type": "stream",
     "text": [
      "[Epoch 19]: 100%|███████████████████████████████████████████████████████████████████████| 15/15 [12:44<00:00, 50.98s/it]\n"
     ]
    },
    {
     "name": "stdout",
     "output_type": "stream",
     "text": [
      "Epoch 19 - Train Loss: 0.6294 | Train Acc: 0.8178 | Val Loss: 0.6287 | Val Acc: 0.8378\n"
     ]
    },
    {
     "name": "stderr",
     "output_type": "stream",
     "text": [
      "[Epoch 20]: 100%|███████████████████████████████████████████████████████████████████████| 15/15 [11:46<00:00, 47.07s/it]\n"
     ]
    },
    {
     "name": "stdout",
     "output_type": "stream",
     "text": [
      "Epoch 20 - Train Loss: 0.6317 | Train Acc: 0.8136 | Val Loss: 0.6268 | Val Acc: 0.8378\n"
     ]
    },
    {
     "data": {
      "image/png": "[encoded data removed]",
      "text/plain": [
       "<Figure size 1400x500 with 2 Axes>"
      ]
     },
     "metadata": {},
     "output_type": "display_data"
    }
   ],
   "source": [
    "# ====================================================\n",
    "# TRAINING LOOP WITH METRICS TRACKING\n",
    "# ====================================================\n",
    "best_val_loss = float('inf')\n",
    "best_model_state = None\n",
    "patience, patience_counter = 3, 0\n",
    "\n",
    "# Lists to store metrics\n",
    "train_losses, val_losses = [], []\n",
    "train_accuracies, val_accuracies = [], []\n",
    "\n",
    "for epoch in range(20):\n",
    "    clip_model.train()\n",
    "    total_loss = 0\n",
    "    correct_train, total_train = 0, 0\n",
    "\n",
    "    for images, labels in tqdm(train_loader, desc=f\"[Epoch {epoch+1}]\"):\n",
    "        images, labels = images.to(device, non_blocking=True), labels.to(device, non_blocking=True)\n",
    "\n",
    "        # Forward pass\n",
    "        image_features = clip_model.encode_image(images)\n",
    "        image_features = image_features / image_features.norm(dim=-1, keepdim=True)\n",
    "        logits = (image_features @ text_features.T) * temperature\n",
    "\n",
    "        loss = loss_fn(logits, labels)\n",
    "        optimizer.zero_grad()\n",
    "        loss.backward()\n",
    "        optimizer.step()\n",
    "\n",
    "        total_loss += loss.item()\n",
    "        preds = logits.argmax(dim=1)\n",
    "        correct_train += (preds == labels).sum().item()\n",
    "        total_train += labels.size(0)\n",
    "\n",
    "    avg_train_loss = total_loss / len(train_loader)\n",
    "    train_acc = correct_train / total_train\n",
    "    train_losses.append(avg_train_loss)\n",
    "    train_accuracies.append(train_acc)\n",
    "\n",
    "    # ================= Validation =================\n",
    "    clip_model.eval()\n",
    "    val_loss, correct_val, total_val = 0, 0, 0\n",
    "    with torch.no_grad():\n",
    "        for images, labels in val_loader:\n",
    "            images, labels = images.to(device, non_blocking=True), labels.to(device, non_blocking=True)\n",
    "\n",
    "            image_features = clip_model.encode_image(images)\n",
    "            image_features = image_features / image_features.norm(dim=-1, keepdim=True)\n",
    "            logits = (image_features @ text_features.T) * temperature\n",
    "\n",
    "            loss = loss_fn(logits, labels)\n",
    "            val_loss += loss.item()\n",
    "            preds = logits.argmax(dim=1)\n",
    "            correct_val += (preds == labels).sum().item()\n",
    "            total_val += labels.size(0)\n",
    "\n",
    "    avg_val_loss = val_loss / len(val_loader)\n",
    "    val_acc = correct_val / total_val\n",
    "    val_losses.append(avg_val_loss)\n",
    "    val_accuracies.append(val_acc)\n",
    "\n",
    "    print(f\"Epoch {epoch+1} - \"\n",
    "          f\"Train Loss: {avg_train_loss:.4f} | Train Acc: {train_acc:.4f} | \"\n",
    "          f\"Val Loss: {avg_val_loss:.4f} | Val Acc: {val_acc:.4f}\")\n",
    "\n",
    "    # Early Stopping\n",
    "    if avg_val_loss < best_val_loss:\n",
    "        best_val_loss = avg_val_loss\n",
    "        best_model_state = copy.deepcopy(clip_model.state_dict())\n",
    "        patience_counter = 0\n",
    "    else:\n",
    "        patience_counter += 1\n",
    "        if patience_counter >= patience:\n",
    "            print(\"Early stopping.\")\n",
    "            break\n",
    "\n",
    "if best_model_state:\n",
    "    clip_model.load_state_dict(best_model_state)\n",
    "\n",
    "# ====================================================\n",
    "# PLOT TRAIN/VAL LOSS AND ACCURACY\n",
    "# ====================================================\n",
    "epochs_range = range(1, len(train_losses) + 1)\n",
    "\n",
    "plt.figure(figsize=(14, 5))\n",
    "plt.subplot(1, 2, 1)\n",
    "plt.plot(epochs_range, train_losses, label='Train Loss')\n",
    "plt.plot(epochs_range, val_losses, label='Val Loss')\n",
    "plt.xlabel('Epochs')\n",
    "plt.ylabel('Loss')\n",
    "plt.title('Training and Validation Loss')\n",
    "plt.legend()\n",
    "\n",
    "plt.subplot(1, 2, 2)\n",
    "plt.plot(epochs_range, train_accuracies, label='Train Accuracy')\n",
    "plt.plot(epochs_range, val_accuracies, label='Val Accuracy')\n",
    "plt.xlabel('Epochs')\n",
    "plt.ylabel('Accuracy')\n",
    "plt.title('Training and Validation Accuracy')\n",
    "plt.legend()\n",
    "\n",
    "plt.tight_layout()\n",
    "plt.show()\n"
   ]
  },
  {
   "cell_type": "code",
   "execution_count": 26,
   "id": "cda2e2a9-0e44-45c9-acbf-e89bbcc1d5dc",
   "metadata": {},
   "outputs": [
    {
     "data": {
      "image/png": "[encoded data removed]",
      "text/plain": [
       "<Figure size 600x500 with 2 Axes>"
      ]
     },
     "metadata": {},
     "output_type": "display_data"
    },
    {
     "name": "stdout",
     "output_type": "stream",
     "text": [
      "Classification Report:\n",
      "              precision    recall  f1-score   support\n",
      "\n",
      "   no tumour       0.50      0.67      0.57        12\n",
      "      tumour       0.81      0.68      0.74        25\n",
      "\n",
      "    accuracy                           0.68        37\n",
      "   macro avg       0.65      0.67      0.66        37\n",
      "weighted avg       0.71      0.68      0.68        37\n",
      "\n"
     ]
    }
   ],
   "source": [
    "# ====================================================\n",
    "# TEST EVALUATION\n",
    "# ====================================================\n",
    "clip_model.eval()\n",
    "y_true, y_pred = [], []\n",
    "with torch.no_grad():\n",
    "    for images, labels in test_loader:\n",
    "        images = images.to(device, non_blocking=True)\n",
    "        labels = labels.to(device, non_blocking=True)\n",
    "        image_features = clip_model.encode_image(images)\n",
    "        image_features = image_features / image_features.norm(dim=-1, keepdim=True)\n",
    "        logits = (image_features @ text_features.T) * temperature\n",
    "        preds = logits.argmax(dim=1).cpu().numpy()\n",
    "        y_pred.extend(preds)\n",
    "        y_true.extend(labels.cpu().numpy())\n",
    "\n",
    "cm = confusion_matrix(y_true, y_pred)\n",
    "plt.figure(figsize=(6, 5))\n",
    "sns.heatmap(cm, annot=True, fmt='d', xticklabels=class_names, yticklabels=class_names)\n",
    "plt.xlabel(\"Predicted\")\n",
    "plt.ylabel(\"True\")\n",
    "plt.title(\"Confusion Matrix\")\n",
    "plt.savefig(\"confusion_matrix.png\")\n",
    "plt.show()\n",
    "\n",
    "print(\"Classification Report:\")\n",
    "print(classification_report(y_true, y_pred, target_names=class_names))"
   ]
  },
  {
   "cell_type": "code",
   "execution_count": 118,
   "id": "b70fcf63-e6df-4583-b70c-ad5a76ca92a0",
   "metadata": {},
   "outputs": [
    {
     "name": "stdout",
     "output_type": "stream",
     "text": [
      "Model saved to biomedclip_finetuned.pth\n"
     ]
    }
   ],
   "source": [
    "# SAVE MODEL & RELATED COMPONENTS\n",
    "save_path = \"biomedclip_finetuned.pth\"\n",
    "torch.save({\n",
    "    \"model_state_dict\": clip_model.state_dict(),\n",
    "    \"temperature\": temperature.item(),\n",
    "    \"text_features\": text_features.cpu(),  # Save normalized text features\n",
    "    \"label2id\": label2id,                  # Save class mapping\n",
    "    \"class_names\": class_names,            # Save class names\n",
    "}, save_path)\n",
    "print(f\"Model saved to {save_path}\")"
   ]
  },
  {
   "cell_type": "code",
   "execution_count": 4,
   "id": "340a7497-09ca-497e-a55e-9afb899d2817",
   "metadata": {},
   "outputs": [],
   "source": [
    "import torch\n",
    "import cv2\n",
    "import numpy as np\n",
    "from albumentations.pytorch import ToTensorV2\n",
    "import albumentations as A\n",
    "from open_clip import create_model_from_pretrained, get_tokenizer\n",
    "\n",
    "class TumourPredictor:\n",
    "    def __init__(self, checkpoint_path, device=None):\n",
    "        self.device = device or (\"cuda\" if torch.cuda.is_available() else \"cpu\")\n",
    "        \n",
    "        # Load BioMedCLIP base\n",
    "        self.model, _ = create_model_from_pretrained(\n",
    "            'hf-hub:microsoft/BiomedCLIP-PubMedBERT_256-vit_base_patch16_224'\n",
    "        )\n",
    "        self.model.to(self.device)\n",
    "        self.model.eval()\n",
    "        \n",
    "        # Load checkpoint\n",
    "        checkpoint = torch.load(checkpoint_path, map_location=self.device)\n",
    "        self.model.load_state_dict(checkpoint[\"model_state_dict\"], strict=False)\n",
    "        self.temperature = torch.tensor(checkpoint[\"temperature\"]).to(self.device)\n",
    "        self.text_features = checkpoint[\"text_features\"].to(self.device)\n",
    "        self.class_names = checkpoint[\"class_names\"]\n",
    "        self.label2id = checkpoint[\"label2id\"]\n",
    "        \n",
    "        # Albumentations inference transform (must match training)\n",
    "        self.transform = A.Compose([\n",
    "            A.Resize(224, 224),\n",
    "            A.Normalize(),\n",
    "            ToTensorV2()\n",
    "        ])\n",
    "    \n",
    "    def predict_image(self, image_path):\n",
    "        img = cv2.imread(image_path)\n",
    "        img = cv2.cvtColor(img, cv2.COLOR_BGR2RGB)\n",
    "        img = self.transform(image=img)[\"image\"].unsqueeze(0).to(self.device)\n",
    "\n",
    "        with torch.no_grad():\n",
    "            image_features = self.model.encode_image(img)\n",
    "            image_features = image_features / image_features.norm(dim=-1, keepdim=True)\n",
    "            logits = (image_features @ self.text_features.T) * self.temperature\n",
    "            probs = torch.softmax(logits, dim=-1).cpu().numpy().flatten()\n",
    "        \n",
    "        pred_idx = probs.argmax()\n",
    "        return {\n",
    "            \"label\": self.class_names[pred_idx],\n",
    "            \"confidence\": float(probs[pred_idx])\n",
    "        }\n"
   ]
  },
  {
   "cell_type": "code",
   "execution_count": 121,
   "id": "664c3b04-d534-4187-b3a0-f04a9665bc67",
   "metadata": {},
   "outputs": [
    {
     "name": "stdout",
     "output_type": "stream",
     "text": [
      "{'label': 'tumour', 'confidence': 0.5732753276824951}\n"
     ]
    }
   ],
   "source": [
    "predictor = TumourPredictor(\"biomedclip_finetuned.pth\")\n",
    "result = predictor.predict_image(\"/home/cirdanmsc/gdrive/Cirdan1/pngs_v2/20170608_135222.isyntax.png\")\n",
    "print(result)"
   ]
  },
  {
   "cell_type": "code",
   "execution_count": 130,
   "id": "7ba954a1-0711-4639-873f-f777796d6f81",
   "metadata": {},
   "outputs": [],
   "source": [
    "class TumourBatchPredictor:\n",
    "    def __init__(self, checkpoint_path, device=None):\n",
    "        self.device = device or (\"cuda\" if torch.cuda.is_available() else \"cpu\")\n",
    "        \n",
    "        # Load BioMedCLIP base\n",
    "        self.model, _ = create_model_from_pretrained(\n",
    "            'hf-hub:microsoft/BiomedCLIP-PubMedBERT_256-vit_base_patch16_224'\n",
    "        )\n",
    "        self.model.to(self.device)\n",
    "        self.model.eval()\n",
    "        \n",
    "        # Load checkpoint\n",
    "        checkpoint = torch.load(checkpoint_path, map_location=self.device)\n",
    "        self.model.load_state_dict(checkpoint[\"model_state_dict\"], strict=False)\n",
    "        self.temperature = torch.tensor(checkpoint[\"temperature\"]).to(self.device)\n",
    "        self.text_features = checkpoint[\"text_features\"].to(self.device)\n",
    "        self.class_names = checkpoint[\"class_names\"]\n",
    "        self.label2id = checkpoint[\"label2id\"]\n",
    "        \n",
    "        # Albumentations inference transform (must match training)\n",
    "        self.transform = A.Compose([\n",
    "            A.Resize(224, 224),\n",
    "            A.Normalize(),\n",
    "            ToTensorV2()\n",
    "        ])\n",
    "\n",
    "    def predict_image(self, image_path):\n",
    "        img = cv2.imread(image_path)\n",
    "        img = cv2.cvtColor(img, cv2.COLOR_BGR2RGB)\n",
    "        img = self.transform(image=img)[\"image\"].unsqueeze(0).to(self.device)\n",
    "\n",
    "        with torch.no_grad():\n",
    "            image_features = self.model.encode_image(img)\n",
    "            image_features = image_features / image_features.norm(dim=-1, keepdim=True)\n",
    "            logits = (image_features @ self.text_features.T) * self.temperature\n",
    "            probs = torch.softmax(logits, dim=-1).cpu().numpy().flatten()\n",
    "        \n",
    "        pred_idx = probs.argmax()\n",
    "        return {\n",
    "            \"label\": self.class_names[pred_idx],\n",
    "            \"confidence\": float(probs[pred_idx])\n",
    "        }\n",
    "\n",
    "    def predict_folder(self, folder_path, output_csv=\"predictions.csv\"):\n",
    "        results = []\n",
    "        for file_name in tqdm(os.listdir(folder_path), desc=\"Predicting\"):\n",
    "            if file_name.lower().endswith((\".png\", \".jpg\", \".jpeg\")):\n",
    "                img_path = os.path.join(folder_path, file_name)\n",
    "                pred = self.predict_image(img_path)\n",
    "                results.append({\n",
    "                    \"image\": file_name,\n",
    "                    \"prediction\": pred[\"label\"],\n",
    "                    \"confidence\": pred[\"confidence\"]\n",
    "                })\n",
    "\n",
    "        df = pd.DataFrame(results)\n",
    "        df.to_csv(output_csv, index=False)\n",
    "        print(f\"Predictions saved to {output_csv}\")\n",
    "        return df"
   ]
  },
  {
   "cell_type": "code",
   "execution_count": 131,
   "id": "950b7ba9-42de-42fc-a4ab-38cba53c9618",
   "metadata": {},
   "outputs": [
    {
     "name": "stderr",
     "output_type": "stream",
     "text": [
      "Predicting: 100%|███████████████████████████████████████████████████████████████████| 257/257 [1:09:18<00:00, 16.18s/it]"
     ]
    },
    {
     "name": "stdout",
     "output_type": "stream",
     "text": [
      "Predictions saved to predictions.csv\n",
      "                                                 image prediction  confidence\n",
      "0    1.3.46.670589.45.1.1.61596268946064.1.3788.147...     tumour    0.509704\n",
      "1    1.3.46.670589.45.1.1.61596268946064.1.3788.147...     tumour    0.516669\n",
      "2    1.3.46.670589.45.1.1.61596268946064.1.3788.147...  no tumour    0.515675\n",
      "3    1.3.46.670589.45.1.1.61596268946064.1.3788.147...  no tumour    0.563334\n",
      "4    1.3.46.670589.45.1.1.61596268946064.1.3788.147...     tumour    0.548928\n",
      "..                                                 ...        ...         ...\n",
      "252                        20170609_090153.isyntax.png     tumour    0.535254\n",
      "253                        20170609_090348.isyntax.png  no tumour    0.531393\n",
      "254                        20170609_090527.isyntax.png     tumour    0.556565\n",
      "255                        20170609_090607.isyntax.png     tumour    0.555224\n",
      "256                        20170609_091044.isyntax.png     tumour    0.529997\n",
      "\n",
      "[257 rows x 3 columns]\n"
     ]
    },
    {
     "name": "stderr",
     "output_type": "stream",
     "text": [
      "\n"
     ]
    }
   ],
   "source": [
    "predictor = TumourBatchPredictor(\"biomedclip_finetuned.pth\")\n",
    "df_result = predictor.predict_folder(\"/home/cirdanmsc/gdrive/Cirdan1/pngs_v2\")\n",
    "print(df_result)"
   ]
  },
  {
   "cell_type": "code",
   "execution_count": 132,
   "id": "1c0c1743-d7fd-4b56-ae68-280a1380c141",
   "metadata": {},
   "outputs": [
    {
     "data": {
      "text/plain": [
       "prediction\n",
       "tumour       153\n",
       "no tumour    104\n",
       "Name: count, dtype: int64"
      ]
     },
     "execution_count": 132,
     "metadata": {},
     "output_type": "execute_result"
    }
   ],
   "source": [
    "df_result['prediction'].value_counts()"
   ]
  },
  {
   "cell_type": "code",
   "execution_count": 36,
   "id": "e0f189ae-5558-42ea-9fd5-6d7357aa4844",
   "metadata": {},
   "outputs": [],
   "source": [
    "import torch\n",
    "import torch.nn.functional as F\n",
    "from PIL import Image\n",
    "from open_clip import create_model_from_pretrained, get_tokenizer\n",
    "from torchvision import transforms\n",
    "\n",
    "class TumourPredictor:\n",
    "    def __init__(self, checkpoint_path, device=None):\n",
    "        \"\"\"\n",
    "        Initializes BioMedCLIP with your fine-tuned weights for binary tumour classification.\n",
    "        \"\"\"\n",
    "        self.device = device or (\"cuda\" if torch.cuda.is_available() else \"cpu\")\n",
    "        \n",
    "        # Load BioMedCLIP\n",
    "        self.model, self.preprocess = create_model_from_pretrained(\n",
    "            'hf-hub:microsoft/BiomedCLIP-PubMedBERT_256-vit_base_patch16_224'\n",
    "        )\n",
    "        self.model.to(self.device)\n",
    "        self.model.eval()\n",
    "\n",
    "        # Load tokenizer\n",
    "        self.tokenizer = get_tokenizer(\n",
    "            'hf-hub:microsoft/BiomedCLIP-PubMedBERT_256-vit_base_patch16_224'\n",
    "        )\n",
    "\n",
    "        # Load fine-tuned weights\n",
    "        state_dict = torch.load(checkpoint_path, map_location=self.device)\n",
    "        self.model.load_state_dict(state_dict, strict=False)\n",
    "\n",
    "        # Initialize text prompts (same as used in training)\n",
    "        self.class_names = ['no tumour', 'tumour']\n",
    "        text_prompts = [f\"This image of breast tissue contains {label}\" for label in self.class_names]\n",
    "\n",
    "        with torch.no_grad():\n",
    "            tokenized = self.tokenizer(text_prompts).to(self.device)\n",
    "            self.text_features = self.model.encode_text(tokenized)\n",
    "            self.text_features = self.text_features / self.text_features.norm(dim=-1, keepdim=True)\n",
    "\n",
    "        # Temperature (you trained it as a parameter)\n",
    "        self.temperature = torch.tensor(1.0).to(self.device)  # If you saved temperature, load it instead.\n",
    "\n",
    "    def predict(self, image_path):\n",
    "        \"\"\"\n",
    "        Predict tumour or no tumour for a single image.\n",
    "        \"\"\"\n",
    "        image = Image.open(image_path).convert(\"RGB\")\n",
    "        image_tensor = self.preprocess(image).unsqueeze(0).to(self.device)\n",
    "\n",
    "        with torch.no_grad():\n",
    "            image_features = self.model.encode_image(image_tensor)\n",
    "            image_features = image_features / image_features.norm(dim=-1, keepdim=True)\n",
    "\n",
    "            logits = (image_features @ self.text_features.T) * self.temperature\n",
    "            probs = F.softmax(logits, dim=-1).cpu().numpy().flatten()\n",
    "\n",
    "        pred_idx = probs.argmax()\n",
    "        return {\"label\": self.class_names[pred_idx], \"confidence\": float(probs[pred_idx])}\n"
   ]
  },
  {
   "cell_type": "code",
   "execution_count": 37,
   "id": "65bf20e3-3cbc-4f2d-8667-023f78d20b97",
   "metadata": {},
   "outputs": [
    {
     "name": "stdout",
     "output_type": "stream",
     "text": [
      "{'label': 'no tumour', 'confidence': 0.5299661159515381}\n"
     ]
    }
   ],
   "source": [
    "predictor = TumourPredictor(\"finetuned_biomedclip.pth\")\n",
    "result = predictor.predict(\"/home/cirdanmsc/gdrive/Cirdan1/pngs_v2/20170608_135006.isyntax.png\")\n",
    "print(result)"
   ]
  },
  {
   "cell_type": "code",
   "execution_count": 38,
   "id": "d02191c1-1024-4679-b34c-fd2bb541ed60",
   "metadata": {},
   "outputs": [
    {
     "data": {
      "text/html": [
       "<div>\n",
       "<style scoped>\n",
       "    .dataframe tbody tr th:only-of-type {\n",
       "        vertical-align: middle;\n",
       "    }\n",
       "\n",
       "    .dataframe tbody tr th {\n",
       "        vertical-align: top;\n",
       "    }\n",
       "\n",
       "    .dataframe thead th {\n",
       "        text-align: right;\n",
       "    }\n",
       "</style>\n",
       "<table border=\"1\" class=\"dataframe\">\n",
       "  <thead>\n",
       "    <tr style=\"text-align: right;\">\n",
       "      <th></th>\n",
       "      <th>Slide Number</th>\n",
       "      <th>Tumour</th>\n",
       "    </tr>\n",
       "  </thead>\n",
       "  <tbody>\n",
       "    <tr>\n",
       "      <th>0</th>\n",
       "      <td>20170608_135006</td>\n",
       "      <td>tumour</td>\n",
       "    </tr>\n",
       "    <tr>\n",
       "      <th>1</th>\n",
       "      <td>20170608_135049</td>\n",
       "      <td>tumour</td>\n",
       "    </tr>\n",
       "    <tr>\n",
       "      <th>2</th>\n",
       "      <td>20170608_135119</td>\n",
       "      <td>tumour</td>\n",
       "    </tr>\n",
       "    <tr>\n",
       "      <th>3</th>\n",
       "      <td>20170608_135222</td>\n",
       "      <td>tumour</td>\n",
       "    </tr>\n",
       "    <tr>\n",
       "      <th>4</th>\n",
       "      <td>20170608_135320</td>\n",
       "      <td>no tumour</td>\n",
       "    </tr>\n",
       "    <tr>\n",
       "      <th>...</th>\n",
       "      <td>...</td>\n",
       "      <td>...</td>\n",
       "    </tr>\n",
       "    <tr>\n",
       "      <th>245</th>\n",
       "      <td>1.3.46.670589.45.1.1.61596268946064.1.3788.148...</td>\n",
       "      <td>no tumour</td>\n",
       "    </tr>\n",
       "    <tr>\n",
       "      <th>246</th>\n",
       "      <td>1.3.46.670589.45.1.1.61596268946064.1.3788.148...</td>\n",
       "      <td>no tumour</td>\n",
       "    </tr>\n",
       "    <tr>\n",
       "      <th>247</th>\n",
       "      <td>1.3.46.670589.45.1.1.61596268946064.1.3788.148...</td>\n",
       "      <td>no tumour</td>\n",
       "    </tr>\n",
       "    <tr>\n",
       "      <th>248</th>\n",
       "      <td>1.3.46.670589.45.1.1.61596268946064.1.3788.148...</td>\n",
       "      <td>no tumour</td>\n",
       "    </tr>\n",
       "    <tr>\n",
       "      <th>249</th>\n",
       "      <td>1.3.46.670589.45.1.1.61596268946064.1.980.1478...</td>\n",
       "      <td>no tumour</td>\n",
       "    </tr>\n",
       "  </tbody>\n",
       "</table>\n",
       "<p>246 rows × 2 columns</p>\n",
       "</div>"
      ],
      "text/plain": [
       "                                          Slide Number     Tumour\n",
       "0                                      20170608_135006     tumour\n",
       "1                                      20170608_135049     tumour\n",
       "2                                      20170608_135119     tumour\n",
       "3                                      20170608_135222     tumour\n",
       "4                                      20170608_135320  no tumour\n",
       "..                                                 ...        ...\n",
       "245  1.3.46.670589.45.1.1.61596268946064.1.3788.148...  no tumour\n",
       "246  1.3.46.670589.45.1.1.61596268946064.1.3788.148...  no tumour\n",
       "247  1.3.46.670589.45.1.1.61596268946064.1.3788.148...  no tumour\n",
       "248  1.3.46.670589.45.1.1.61596268946064.1.3788.148...  no tumour\n",
       "249  1.3.46.670589.45.1.1.61596268946064.1.980.1478...  no tumour\n",
       "\n",
       "[246 rows x 2 columns]"
      ]
     },
     "execution_count": 38,
     "metadata": {},
     "output_type": "execute_result"
    }
   ],
   "source": [
    "df"
   ]
  },
  {
   "cell_type": "code",
   "execution_count": 39,
   "id": "4bcc42ef-d193-4bfb-ab21-8c7aaeb66eca",
   "metadata": {},
   "outputs": [
    {
     "name": "stdout",
     "output_type": "stream",
     "text": [
      "Slide number not found.\n"
     ]
    }
   ],
   "source": [
    "def is_tumorous(slide_number):\n",
    "    result = df[df['Slide Number'] == slide_number]['Tumour']\n",
    "    if not result.empty:\n",
    "        return bool(result.values[0])\n",
    "    return None  # Slide not found\n",
    "\n",
    "# Example usage\n",
    "slide_id = 20170608_175717\n",
    "status = is_tumorous(slide_id)\n",
    "\n",
    "if status is None:\n",
    "    print(\"Slide number not found.\")\n",
    "elif status:\n",
    "    print(\"✅ Tumorous slide.\")\n",
    "else:\n",
    "    print(\"❌ Non-tumorous slide.\")\n"
   ]
  },
  {
   "cell_type": "code",
   "execution_count": 43,
   "id": "493087b7-9e1a-4a6a-9eba-6d5960046901",
   "metadata": {},
   "outputs": [],
   "source": [
    "from crewai import Agent\n",
    "from pydantic import PrivateAttr\n",
    "# from tumour_predictor import TumourPredictor\n",
    "\n",
    "class TumourAgent(Agent):\n",
    "    _predictor: TumourPredictor = PrivateAttr()\n",
    "\n",
    "    def __init__(self, checkpoint_path=\"biomedclip_finetuned.pth\"):\n",
    "        super().__init__(\n",
    "            role=\"Medical Image Classifier\",\n",
    "            goal=\"Classify breast tissue images as tumour or no tumour.\",\n",
    "            backstory=(\n",
    "                \"An AI model fine-tuned on BioMedCLIP to detect breast cancer \"\n",
    "                \"tumour presence with high accuracy.\"\n",
    "            )\n",
    "        )\n",
    "        self._predictor = TumourPredictor(checkpoint_path)\n",
    "\n",
    "    def run(self, image_path):\n",
    "        \"\"\"Analyze the image and return tumour prediction.\"\"\"\n",
    "        result = self._predictor.predict(image_path)\n",
    "        label = result[\"label\"]\n",
    "        confidence = result[\"confidence\"]\n",
    "        return f\"The image is classified as '{label}' with {confidence:.2f} confidence.\"\n"
   ]
  },
  {
   "cell_type": "code",
   "execution_count": 44,
   "id": "043c6f6d-1f26-4aa5-81d4-eaef041c1089",
   "metadata": {},
   "outputs": [
    {
     "name": "stdout",
     "output_type": "stream",
     "text": [
      "The image is classified as 'no tumour' with 0.53 confidence.\n"
     ]
    }
   ],
   "source": [
    "agent = TumourAgent(\"finetuned_biomedclip.pth\")\n",
    "\n",
    "# Example image\n",
    "result = agent.run(\"/home/cirdanmsc/gdrive/Cirdan1/pngs_v2/20170608_135006.isyntax.png\")\n",
    "print(result)"
   ]
  },
  {
   "cell_type": "code",
   "execution_count": null,
   "id": "7680bced-0cc0-46d7-8b9a-c59632e46a81",
   "metadata": {},
   "outputs": [],
   "source": []
  }
 ],
 "metadata": {
  "kernelspec": {
   "display_name": "Python 3 (ipykernel)",
   "language": "python",
   "name": "python3"
  },
  "language_info": {
   "codemirror_mode": {
    "name": "ipython",
    "version": 3
   },
   "file_extension": ".py",
   "mimetype": "text/x-python",
   "name": "python",
   "nbconvert_exporter": "python",
   "pygments_lexer": "ipython3",
   "version": "3.10.12"
  }
 },
 "nbformat": 4,
 "nbformat_minor": 5
}
